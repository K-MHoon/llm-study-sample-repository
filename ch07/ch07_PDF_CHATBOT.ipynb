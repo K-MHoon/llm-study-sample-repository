{
 "cells": [
  {
   "cell_type": "code",
   "execution_count": null,
   "id": "81b51762",
   "metadata": {},
   "outputs": [
    {
     "name": "stderr",
     "output_type": "stream",
     "text": [
      "c:\\openai-prg\\ch07\\ch07_env\\Lib\\site-packages\\tqdm\\auto.py:21: TqdmWarning: IProgress not found. Please update jupyter and ipywidgets. See https://ipywidgets.readthedocs.io/en/stable/user_install.html\n",
      "  from .autonotebook import tqdm as notebook_tqdm\n"
     ]
    }
   ],
   "source": [
    "import os\n",
    "from langchain_openai import ChatOpenAI\n",
    "from langchain.prompts import PromptTemplate\n",
    "from langchain.vectorstores import Chroma\n",
    "from langchain.embeddings import OpenAIEmbeddings\n",
    "from langchain.chains import RetrievalQA\n",
    "from langchain.document_loaders import PyPDFLoader\n",
    "import urllib.request\n",
    "import gradio as gr\n",
    "\n",
    "os.environ[\"OPENAI_API_KEY\"] = \"yourServiceKey\""
   ]
  },
  {
   "cell_type": "code",
   "execution_count": 2,
   "id": "457970a6",
   "metadata": {},
   "outputs": [
    {
     "name": "stdout",
     "output_type": "stream",
     "text": [
      "문서의 수: 366\n"
     ]
    }
   ],
   "source": [
    "loader = PyPDFLoader(\"2020_경제금융용어 700선_게시.pdf\")\n",
    "texts = loader.load_and_split()\n",
    "print('문서의 수:', len(texts))"
   ]
  },
  {
   "cell_type": "code",
   "execution_count": 3,
   "id": "11a83adc",
   "metadata": {},
   "outputs": [
    {
     "data": {
      "text/plain": [
       "Document(metadata={'producer': 'Smart PDF Imposition 1.0', 'creator': 'Smart PDF Imposition 1.0', 'creationdate': 'January 31, 2018 16:21', 'author': 'INSUNG DATA INC.', 'creationdate--text': 'January 31, 2018 16:21', 'moddate': 'January 31, 2018 16:21', 'moddate--text': 'January 31, 2018 16:21', 'subject': 'CoreImposition PDF 1.0 Output', 'title': '°æÁ¦±ÝÀ¶¿ë¾î 700¼±-ÃÖÁ¾.PDF', 'source': '2020_경제금융용어 700선_게시.pdf', 'total_pages': 371, 'page': 19, 'page_label': '20'}, page_content='3\\nㄱ \\n신용을 모두 포괄하는 것으로 크게 가계대출과 판매신용으로 구분된다. 현재 가계신용통\\n계는 2002년 말 잔액부터 분기별로 제공되고 있다. 가계신용통계는 우리나라 가계부문의 \\n부채 규모 및 변동 등을 파악하는 데 널리 활용되고 있다 .\\n가계처분가능소득 \\n가계처분가능소득(PDI; Personal Disposable Income)은 가계가 맘대로 소비와 저축\\n으로 처분할 수 있는 소득을 의미한다. 흔히 국민들의 생활수준을 파악해 볼 수 있는 \\n지표로 1인당 GNI가 널리 쓰이고 있으나 국민총소득에는 가계 뿐 아니라 기업 금융기관 \\n정부가 벌어 들인 소득이 모두 포함되어 있다. 따라서 기업과 금융기관 등이 가계부문 \\n보다 더 많은 소득을 벌어 1인당 국민총소득(GNI)이 높아진 경우에는 가계가 느끼는 \\n체감경기는 전체 경기와 괴리가 있게 된다. 1인당 가계총처분가능소득(PGDI; Personal \\nGross Disposable Income)은 가계부문의 총처분가능소득을 연앙인구로 나누어 계산한 \\n지표로 가계의 구매력을 가장 정확히 가늠해 볼 수 있는 소득지표이다 . \\n 연관검색어 : 국민총소득 (GNI)\\n가교은행\\n청산 대상 금융기관의 자산, 부채를 임시로 넘겨받아 예금, 출금 등의 업무를 대행하고 \\n합병, 채권채무관계 조정 등 후속조치를 수행하는 은행을 말한다. 금융기관이 파산한 경우 \\n예금보험제도는 청산, 매각, 자산부채승계, 가교은행을 통한 인수 등의 수단을 통해 부실 \\n금융기관을 처리한다. 이 중 가교은행을 통한 인수방식은 파산은행의 처리에 상당한 시간이 \\n소요될 것으로 예상할 경우 사용되며 새로운 은행을 설립하여 자산, 부채를 포괄승계하도록 \\n하고, 인수 희망자를 물색하는 등의 조치를 취하게 된다. 가교은행을 이용한 처리방식은 \\n금융기관 파산에 따른 충격을 완화하고 시간적인 여유를 확보할 수 있는 것이 장점이다. \\n임무를 마치면 정리대상 금융기관과 마찬가지로 없어지는 한시적 기관이다.\\n가동률\\n생산능력 대비 생산실적의 백분율(생산실적/생산능력×100)로, 생산설비가 어느 정도 \\n가동률 ∙')"
      ]
     },
     "execution_count": 3,
     "metadata": {},
     "output_type": "execute_result"
    }
   ],
   "source": [
    "texts[15]"
   ]
  },
  {
   "cell_type": "code",
   "execution_count": 4,
   "id": "5e496fc8",
   "metadata": {},
   "outputs": [
    {
     "name": "stdout",
     "output_type": "stream",
     "text": [
      "1\n",
      "ㄱ \n",
      "ㄱ\n",
      "가계부실위험지수(HDRI)\n",
      "가구의 소득 흐름은 물론 금융 및 실물 자산까지 종합적으로 고려하여 가계부채의 \n",
      "부실위험을 평가하는 지표로, 가계의 채무상환능력을 소득 측면에서 평가하는 원리금상\n",
      "환비율(DSR; Debt Service Ratio)과 자산 측면에서 평가하는 부채/자산비율(DTA; Debt \n",
      "To Asset Ratio)을 결합하여 산출한 지수이다. 가계부실위험지수는 가구의 DSR과 DTA가 \n",
      "각각 40%, 100%일 때 100의 값을 갖도록 설정되어 있으며, 동 지수가 100을 초과하는 \n",
      "가구를 ‘위험가구’로 분류한다. 위험가구는 소득 및 자산 측면에서 모두 취약한 ‘고위험가구’, \n",
      "자산 측면에서 취약한 ‘고DTA가구’, 소득 측면에서 취약한 ‘고DSR가구’로 구분할 수 있다. \n",
      "다만 위험 및 고위험 가구는 가구의 채무상환능력 취약성 정도를 평가하기 위한 것이며 \n",
      "이들 가구가 당장 채무상환 불이행, 즉 임계상황에 직면한 것을 의미하지 않는다 .\n",
      " 연관검색어 : 총부채원리금상환비율(DSR)\n",
      "가계수지\n",
      "가정에서 일정 기간의 수입(명목소득)과 지출을 비교해서 남았는지 모자랐는지를 \n",
      "표시한 것을 가계수지(household's total income and expenditure)라 한다. 가계수지가 \n",
      "가계수지 ∙\n"
     ]
    }
   ],
   "source": [
    "print(texts[13].page_content)"
   ]
  },
  {
   "cell_type": "code",
   "execution_count": 5,
   "id": "e6776a10",
   "metadata": {},
   "outputs": [
    {
     "name": "stdout",
     "output_type": "stream",
     "text": [
      "줄어든 청크의 개수: 353\n"
     ]
    }
   ],
   "source": [
    "texts = texts[13:]\n",
    "print('줄어든 청크의 개수:', len(texts))"
   ]
  },
  {
   "cell_type": "code",
   "execution_count": 6,
   "id": "0335ba13",
   "metadata": {},
   "outputs": [
    {
     "name": "stdout",
     "output_type": "stream",
     "text": [
      "첫번째 청크 출력 : page_content='1\n",
      "ㄱ \n",
      "ㄱ\n",
      "가계부실위험지수(HDRI)\n",
      "가구의 소득 흐름은 물론 금융 및 실물 자산까지 종합적으로 고려하여 가계부채의 \n",
      "부실위험을 평가하는 지표로, 가계의 채무상환능력을 소득 측면에서 평가하는 원리금상\n",
      "환비율(DSR; Debt Service Ratio)과 자산 측면에서 평가하는 부채/자산비율(DTA; Debt \n",
      "To Asset Ratio)을 결합하여 산출한 지수이다. 가계부실위험지수는 가구의 DSR과 DTA가 \n",
      "각각 40%, 100%일 때 100의 값을 갖도록 설정되어 있으며, 동 지수가 100을 초과하는 \n",
      "가구를 ‘위험가구’로 분류한다. 위험가구는 소득 및 자산 측면에서 모두 취약한 ‘고위험가구’, \n",
      "자산 측면에서 취약한 ‘고DTA가구’, 소득 측면에서 취약한 ‘고DSR가구’로 구분할 수 있다. \n",
      "다만 위험 및 고위험 가구는 가구의 채무상환능력 취약성 정도를 평가하기 위한 것이며 \n",
      "이들 가구가 당장 채무상환 불이행, 즉 임계상황에 직면한 것을 의미하지 않는다 .\n",
      " 연관검색어 : 총부채원리금상환비율(DSR)\n",
      "가계수지\n",
      "가정에서 일정 기간의 수입(명목소득)과 지출을 비교해서 남았는지 모자랐는지를 \n",
      "표시한 것을 가계수지(household's total income and expenditure)라 한다. 가계수지가 \n",
      "가계수지 ∙' metadata={'producer': 'Smart PDF Imposition 1.0', 'creator': 'Smart PDF Imposition 1.0', 'creationdate': 'January 31, 2018 16:21', 'author': 'INSUNG DATA INC.', 'creationdate--text': 'January 31, 2018 16:21', 'moddate': 'January 31, 2018 16:21', 'moddate--text': 'January 31, 2018 16:21', 'subject': 'CoreImposition PDF 1.0 Output', 'title': '°æÁ¦±ÝÀ¶¿ë¾î 700¼±-ÃÖÁ¾.PDF', 'source': '2020_경제금융용어 700선_게시.pdf', 'total_pages': 371, 'page': 17, 'page_label': '18'}\n"
     ]
    }
   ],
   "source": [
    "print('첫번째 청크 출력 :', texts[0])"
   ]
  },
  {
   "cell_type": "code",
   "execution_count": 7,
   "id": "f47ec93e",
   "metadata": {},
   "outputs": [
    {
     "name": "stdout",
     "output_type": "stream",
     "text": [
      "마지막 데이터 제거 후 청크의 개수: 352\n"
     ]
    }
   ],
   "source": [
    "texts = texts[:-1]\n",
    "print('마지막 데이터 제거 후 청크의 개수:', len(texts))"
   ]
  },
  {
   "cell_type": "code",
   "execution_count": 8,
   "id": "335d62f2",
   "metadata": {},
   "outputs": [
    {
     "name": "stdout",
     "output_type": "stream",
     "text": [
      "텍스트 수 : 1107\n"
     ]
    }
   ],
   "source": [
    "print('텍스트 수 :', len(texts[-1].page_content))"
   ]
  },
  {
   "cell_type": "code",
   "execution_count": 9,
   "id": "81213277",
   "metadata": {},
   "outputs": [
    {
     "name": "stderr",
     "output_type": "stream",
     "text": [
      "C:\\Users\\Public\\Documents\\ESTsoft\\CreatorTemp\\ipykernel_31652\\3998786864.py:1: LangChainDeprecationWarning: The class `OpenAIEmbeddings` was deprecated in LangChain 0.0.9 and will be removed in 1.0. An updated version of the class exists in the :class:`~langchain-openai package and should be used instead. To use it run `pip install -U :class:`~langchain-openai` and import as `from :class:`~langchain_openai import OpenAIEmbeddings``.\n",
      "  embedding = OpenAIEmbeddings(chunk_size=199)\n"
     ]
    }
   ],
   "source": [
    "embedding = OpenAIEmbeddings(chunk_size=199)\n",
    "\n",
    "vectordb = Chroma.from_documents(documents=texts, embedding=embedding)"
   ]
  },
  {
   "cell_type": "code",
   "execution_count": 10,
   "id": "75b40ed3",
   "metadata": {},
   "outputs": [
    {
     "name": "stdout",
     "output_type": "stream",
     "text": [
      "352\n"
     ]
    }
   ],
   "source": [
    "print(vectordb._collection.count())"
   ]
  },
  {
   "cell_type": "code",
   "execution_count": 11,
   "id": "c48adb55",
   "metadata": {},
   "outputs": [
    {
     "name": "stdout",
     "output_type": "stream",
     "text": [
      "ids\n",
      "embeddings\n",
      "documents\n",
      "uris\n",
      "included\n",
      "data\n",
      "metadatas\n"
     ]
    }
   ],
   "source": [
    "for key in vectordb._collection.get():\n",
    "  print(key)"
   ]
  },
  {
   "cell_type": "code",
   "execution_count": 12,
   "id": "198dd28d",
   "metadata": {},
   "outputs": [
    {
     "name": "stdout",
     "output_type": "stream",
     "text": [
      "청크의 개수 : 352\n",
      "--------------------------------------------------\n",
      "0번 청크 출력 :  1\n",
      "ㄱ \n",
      "ㄱ\n",
      "가계부실위험지수(HDRI)\n",
      "가구의 소득 흐름은 물론 금융 및 실물 자산까지 종합적으로 고려하여 가계부채의 \n",
      "부실위험을 평가하는 지표로, 가계의 채무상환능력을 소득 측면에서 평가하는 원리금상\n",
      "환비율(DSR; Debt Service Ratio)과 자산 측면에서 평가하는 부채/자산비율(DTA; Debt \n",
      "To Asset Ratio)을 결합하여 산출한 지수이다. 가계부실위험지수는 가구의 DSR과 DTA가 \n",
      "각각 40%, 100%일 때 100의 값을 갖도록 설정되어 있으며, 동 지수가 100을 초과하는 \n",
      "가구를 ‘위험가구’로 분류한다. 위험가구는 소득 및 자산 측면에서 모두 취약한 ‘고위험가구’, \n",
      "자산 측면에서 취약한 ‘고DTA가구’, 소득 측면에서 취약한 ‘고DSR가구’로 구분할 수 있다. \n",
      "다만 위험 및 고위험 가구는 가구의 채무상환능력 취약성 정도를 평가하기 위한 것이며 \n",
      "이들 가구가 당장 채무상환 불이행, 즉 임계상황에 직면한 것을 의미하지 않는다 .\n",
      " 연관검색어 : 총부채원리금상환비율(DSR)\n",
      "가계수지\n",
      "가정에서 일정 기간의 수입(명목소득)과 지출을 비교해서 남았는지 모자랐는지를 \n",
      "표시한 것을 가계수지(household's total income and expenditure)라 한다. 가계수지가 \n",
      "가계수지 ∙\n"
     ]
    }
   ],
   "source": [
    "documents = vectordb._collection.get()['documents']\n",
    "print('청크의 개수 :', len(documents))\n",
    "print('-' * 50)\n",
    "print('0번 청크 출력 : ', documents[0])"
   ]
  },
  {
   "cell_type": "code",
   "execution_count": 13,
   "id": "ebcb485e",
   "metadata": {},
   "outputs": [
    {
     "name": "stdout",
     "output_type": "stream",
     "text": [
      "임베딩 벡터의 개수 : 352\n"
     ]
    }
   ],
   "source": [
    "embeddings = vectordb._collection.get(include=['embeddings'])['embeddings']\n",
    "print('임베딩 벡터의 개수 :', len(embeddings))"
   ]
  },
  {
   "cell_type": "code",
   "execution_count": 14,
   "id": "d6074422",
   "metadata": {},
   "outputs": [
    {
     "name": "stdout",
     "output_type": "stream",
     "text": [
      "0번 청크의 임베딩 값 출력 :  [-0.0077088  -0.0075166   0.014182   ... -0.01861645 -0.00669286\n",
      " -0.00903364]\n",
      "0번 청크의 임베딩 값 길이 :  1536\n"
     ]
    }
   ],
   "source": [
    "print('0번 청크의 임베딩 값 출력 : ', embeddings[0])\n",
    "print('0번 청크의 임베딩 값 길이 : ', len(embeddings[0]))"
   ]
  },
  {
   "cell_type": "code",
   "execution_count": 15,
   "id": "7e520669",
   "metadata": {},
   "outputs": [
    {
     "name": "stdout",
     "output_type": "stream",
     "text": [
      "metadatas의 개수 :  352\n",
      "0번 청크의 출처 : {'source': '2020_경제금융용어 700선_게시.pdf', 'total_pages': 371, 'producer': 'Smart PDF Imposition 1.0', 'author': 'INSUNG DATA INC.', 'creator': 'Smart PDF Imposition 1.0', 'moddate--text': 'January 31, 2018 16:21', 'creationdate--text': 'January 31, 2018 16:21', 'title': '°æÁ¦±ÝÀ¶¿ë¾î 700¼±-ÃÖÁ¾.PDF', 'page': 17, 'moddate': 'January 31, 2018 16:21', 'creationdate': 'January 31, 2018 16:21', 'page_label': '18', 'subject': 'CoreImposition PDF 1.0 Output'}\n"
     ]
    }
   ],
   "source": [
    "metadatas = vectordb._collection.get()['metadatas']\n",
    "print('metadatas의 개수 : ', len(metadatas))\n",
    "print('0번 청크의 출처 :', metadatas[0])"
   ]
  },
  {
   "cell_type": "code",
   "execution_count": 16,
   "id": "f8bf2380",
   "metadata": {},
   "outputs": [
    {
     "name": "stderr",
     "output_type": "stream",
     "text": [
      "C:\\Users\\Public\\Documents\\ESTsoft\\CreatorTemp\\ipykernel_31652\\1893799076.py:3: LangChainDeprecationWarning: The method `BaseRetriever.get_relevant_documents` was deprecated in langchain-core 0.1.46 and will be removed in 1.0. Use :meth:`~invoke` instead.\n",
      "  docs = retriever.get_relevant_documents(\"비트코인이 궁금해\")\n"
     ]
    },
    {
     "name": "stdout",
     "output_type": "stream",
     "text": [
      "유사 문서 개수 : 4\n",
      "----------------------------------------\n",
      "첫번째 유사 문서 : page_content='139\n",
      "ㅂ \n",
      "비트코인\n",
      "비트코인(bitcoin)은 가상통화(암호통화)이자 디지털 지급시스템이다. 비트코인 시스템\n",
      "은 중앙 저장소 또는 단일 관리자가 없기 때문에 최초의 탈중앙화된 디지털통화라고 불린다. \n",
      "이는 사토시 나카모토라는 사람(집단)에 의해 만들어져서 2009년 개방형 소프트웨어로 \n",
      "배포되었다. 이 시스템은 공유형(peer-to-peer)이며, 거래는 중개자 없이 블록체인 소프트\n",
      "웨어를 이용하는 참여자(nodes) 사이에 직접 이뤄진다. 이런 거래들은 공유(P2P) 네트워크\n",
      "상 참여자의 작업증명(proof-of-work)을 통해 검증되고 공개된 분산원장인 블록체인에 \n",
      "기록된다. 승인된 거래의 새 그룹인 한 블록은 대략 10분에 한 번씩 만들어져서 블록체인에 \n",
      "추가되고 신속하게 모든 참여자에게 보내어진다. 비트코인은 대규모 전기를 사용하는 \n",
      "컴퓨터 처리 능력(power)을 활용해서 이뤄지는 기록보관 서비스인 채굴(mining)에 대한 \n",
      "보상으로 발행되고 있으며 다른 통화･상품･용역 등과 교환되어가고 있다. 중앙은행이 \n",
      "발행한 법정화폐가 아닌 비트코인은 비트코인 플랫폼에서 거래되며 투자대상으로서도 \n",
      "관심을 받고 있다. 하지만 급등한 가격 및 심한 변동 폭으로 거품논란이 크다. 또한 익명성으\n",
      "로 자금세탁 등 불법거래에 악용될 소지가 많아 중국 등 일부 국가에서 비트코인 등 가상통\n",
      "화의 거래를 규제하고 있다. 일본의 경우 비트코인의 거래이익에 대해 세금을 부과한다. \n",
      "비트코인은 추가되는 한 블록당 새로 12.5비트코인을 보상하는데(2016.7월 현재), 21만개\n",
      "가 채굴될 때(대략 4년)마다 그 보상이 반으로 줄어든다. 비트코인의 총량은 21백만개이며 \n",
      "2140년경 모두 채굴될 것으로 전망된다. 비트코인은 그 시스템의 설계시 그 수량을 한정시\n",
      "켜 놓았기 때문에 원칙적으로 인플레이션에 의해 가치가 떨어질 수 있는 화폐와 다른 \n",
      "속성을 지닌다. 한편 2017년 8월 1일 비트코인(classic bitcoin)에서 ‘비트코인캐시’(BCH)가, \n",
      "10월 25일 ‘비트코인골드’(BTG)가 하드포크(hard-fork)되어 별도로 거래되고 있다.\n",
      " 연관검색어 : 가상통화, 작업증명, 블록체인\n",
      "빅데이터\n",
      "빅데이터(big data)란 복잡하고 다양한 대규모 데이터세트 자체는 물론 이 데이터세트\n",
      "로부터 정보를 추출하고 결과를 분석하여 더 큰 가치를 창출하는 기술을 뜻한다. 수치 \n",
      "데이터 등 기존의 정형화된 정보뿐 아니라 텍스트 ･이미지･오디오･로그기록 등 여러 \n",
      "형태의 비정형 정보가 데이터로 활용된다. 최근 모바일기기와 SNS 이용 보편화, 사물인\n",
      "빅데이터 ∙' metadata={'moddate': 'January 31, 2018 16:21', 'creationdate--text': 'January 31, 2018 16:21', 'page_label': '156', 'creator': 'Smart PDF Imposition 1.0', 'subject': 'CoreImposition PDF 1.0 Output', 'source': '2020_경제금융용어 700선_게시.pdf', 'moddate--text': 'January 31, 2018 16:21', 'title': '°æÁ¦±ÝÀ¶¿ë¾î 700¼±-ÃÖÁ¾.PDF', 'total_pages': 371, 'creationdate': 'January 31, 2018 16:21', 'producer': 'Smart PDF Imposition 1.0', 'author': 'INSUNG DATA INC.', 'page': 155}\n",
      "두번째 유사 문서 : page_content='136\n",
      "경제금융용어 700선\n",
      "간 대화의 깊이와 폭도 더욱 넓어지고 있다. 브릭스는 현재의 경제성장 속도와 앞으로의 \n",
      "발전 전망에 비추어 신흥 경제대국으로 발돋움할 가능성이 높은 나라들을 하나의 경제권으로 \n",
      "묶은 개념으로 볼 수 있는데, 실제로도 브릭스 국가들은 공통적으로 거대한 영토와 노동력, \n",
      "풍부한 지하자원 등 경제대국으로 성장할 수 있는 잠재력을 갖춘 것으로 평가되고 있다.\n",
      "블록체인\n",
      "블록체인(block chain)은 ① 일정 시간 동안 발생한 모든 거래정보를 블록 (block) \n",
      "단위로 기록하여 ② 모든 구성원들에게 전송하고 ③ 블록의 유효성이 확보될 경우 \n",
      "이 새 블록을 ④ 기존의 블록에 추가 연결(chain)하여 보관하는 방식의 알고리즘이다 . \n",
      "각 블록은 이전 블록에 대한 연결자인 해시포인터(a hash pointer, 위변조 점검 수단 ), \n",
      "시간표시 및 거래데이터를 포함한다. 블록체인은 효율적이고 검증 가능한 방식으로 \n",
      "거래를 기록할 수 있는 개방된 분산원장 즉, 데이터베이스 역할을 한다. 이는 참여자간 \n",
      "공유(peer to peer) 네트워크가 집단적으로 새 블록을 검증하기 위한 프로토콜에 따라 \n",
      "관리된다. 그래서 만약 누군가 거래기록을 조작하려면 참여자간 연결된 모든 블록을 \n",
      "새 블록 생성 이전에 조작해야한다. 즉 일정 시간 안에 수많은 블록을 모두 조작해야하는\n",
      "데, 이는 사실상 불가능하므로 보안성이 높은 것이다. 이 블록체인 덕분에 새로운 단위가\n",
      "치의 거래가 오직 한번만 이뤄짐으로써, 사기행위와 같은 이중 지급(double spending) \n",
      "문제를 해결할 수 있게 되었다. 또한 블록체인에서는 ‘제3의 기관’이 필요 없는 탈중앙화\n",
      "와 중개기관을 거치지 않는 탈중개화가 이뤄지기 때문에 거래비용이 획기적으로 낮아진\n",
      "다. 그래서 블록체인은 비트코인 ･이더리움(Etherium) 등 가상통화 운용의 기반이 될 \n",
      "뿐만 아니라 스마트계약, 증권 발행 및 거래, 해외송금 및 자금이체, 무역금융, 부동산 \n",
      "등기, 고가품(예: 다이아몬드)의 정품 인증, 디지털 ID 관리, 전자투표, 개인건강기록 \n",
      "관리 등 여러 분야에서 무한한 혁신 잠재력을 지니고 있다 . \n",
      " 연관검색어 : 분산원장기술, 스마트계약, 비트코인, 금융의 탈집중화, 금융의 탈중개화\n",
      "블록체인과 탈중앙화 \n",
      "블록체인은 공유 네트워크를 통해 데이터를 저장함으로써 데이터의 중앙 집중 보관에 \n",
      "따르는 리스크를 제거한다. 탈중앙화(decentralization)된 블록체인은 계획되지 않은' metadata={'total_pages': 371, 'page': 152, 'creationdate--text': 'January 31, 2018 16:21', 'title': '°æÁ¦±ÝÀ¶¿ë¾î 700¼±-ÃÖÁ¾.PDF', 'creator': 'Smart PDF Imposition 1.0', 'page_label': '153', 'creationdate': 'January 31, 2018 16:21', 'moddate--text': 'January 31, 2018 16:21', 'subject': 'CoreImposition PDF 1.0 Output', 'moddate': 'January 31, 2018 16:21', 'source': '2020_경제금융용어 700선_게시.pdf', 'author': 'INSUNG DATA INC.', 'producer': 'Smart PDF Imposition 1.0'}\n"
     ]
    }
   ],
   "source": [
    "retriever = vectordb.as_retriever(kwargs=2)\n",
    "\n",
    "docs = retriever.get_relevant_documents(\"비트코인이 궁금해\")\n",
    "print('유사 문서 개수 :', len(docs))\n",
    "print('--' * 20)\n",
    "print('첫번째 유사 문서 :', docs[0])\n",
    "print('두번째 유사 문서 :', docs[1])"
   ]
  },
  {
   "cell_type": "code",
   "execution_count": 17,
   "id": "77da8b73",
   "metadata": {},
   "outputs": [],
   "source": [
    "template = \"\"\"\n",
    "당신은 한국은행에서 만든 금융 용어를 설명해주는 금융쟁이입니다.\n",
    "안상준 개발자가 만들었습니다. 주어진 검색 결과를 바탕으로 답변하세요.\n",
    "검색 결과에 없는 내용이라면 답변할 수 없다고 하세요. 반말로 친근하게 답변하세요.\n",
    "{context}\n",
    "\n",
    "Question: {question}\n",
    "Answer:\n",
    "\"\"\"\n",
    "\n",
    "prompt = PromptTemplate.from_template(template)"
   ]
  },
  {
   "cell_type": "code",
   "execution_count": 18,
   "id": "16dcf4ad",
   "metadata": {},
   "outputs": [],
   "source": [
    "llm = ChatOpenAI(model_name=\"gpt-4o\", temperature=0)"
   ]
  },
  {
   "cell_type": "code",
   "execution_count": 19,
   "id": "b791e8e5",
   "metadata": {},
   "outputs": [],
   "source": [
    "qa_chain = RetrievalQA.from_chain_type(\n",
    "  llm = llm,\n",
    "  chain_type_kwargs={\"prompt\":prompt},\n",
    "  retriever=retriever,\n",
    "  return_source_documents=True\n",
    ")"
   ]
  },
  {
   "cell_type": "code",
   "execution_count": 20,
   "id": "ce5bde6b",
   "metadata": {},
   "outputs": [
    {
     "name": "stderr",
     "output_type": "stream",
     "text": [
      "C:\\Users\\Public\\Documents\\ESTsoft\\CreatorTemp\\ipykernel_31652\\440151274.py:2: LangChainDeprecationWarning: The method `Chain.__call__` was deprecated in langchain 0.1.0 and will be removed in 1.0. Use :meth:`~invoke` instead.\n",
      "  chatbot_response = qa_chain(input_text)\n"
     ]
    },
    {
     "name": "stdout",
     "output_type": "stream",
     "text": [
      "{'query': '디커플링이란 무엇인가?', 'result': '디커플링은 탈동조화라고도 하는데, 어떤 나라나 지역의 경제가 인접한 다른 국가나 전반적인 세계 경제의 흐름과는 다른 모습을 보이는 현상을 말해. 예를 들어, 금융위기 이후 신흥국가나 유로지역 국가들이 특히 미국 경제와 다른 모습을 보이는 경우가 있어. 또, 주가나 금리, 환율 등 일부 경제 변수의 흐름이 국가 간 또는 특정 국가 내에서 서로 다른 흐름을 보이는 현상도 디커플링이라고 할 수 있어. 반대로, 경제가 다른 국가나 세계 경제 흐름과 유사한 흐름을 보이는 것을 커플링이라고 해.', 'source_documents': [Document(metadata={'total_pages': 371, 'subject': 'CoreImposition PDF 1.0 Output', 'moddate--text': 'January 31, 2018 16:21', 'creator': 'Smart PDF Imposition 1.0', 'source': '2020_경제금융용어 700선_게시.pdf', 'author': 'INSUNG DATA INC.', 'creationdate': 'January 31, 2018 16:21', 'producer': 'Smart PDF Imposition 1.0', 'title': '°æÁ¦±ÝÀ¶¿ë¾î 700¼±-ÃÖÁ¾.PDF', 'creationdate--text': 'January 31, 2018 16:21', 'page': 114, 'page_label': '115', 'moddate': 'January 31, 2018 16:21'}, page_content='98\\n경제금융용어 700선\\n가계와 기업이 소비와 투자를 미룸으로써 수요의 위축을 초래하여 디플레이션 압력을 \\n보다 크게 할 수도 있다. 이 같은 상황에서는 경제주체들의 물가상승률 예상치가 더 \\n낮아지지 않도록 사전에 통화 ･재정정책 면에서 적극적으로 대응하는 것이 중요하다 .\\n 연관검색어 : 디플레이션,  통화정책\\n디커플링/커플링\\n디커플링(decoupling)이란 탈동조화라고 번역할 수 있는데, 어떤 나라나 지역의 경제\\n가 인접한 다른 국가나 전반적인 세계 경제의 흐름과는 다른 모습을 보이는 현상을 \\n말한다. 최근의 디커플링의 예로는 금융위기 이후 신흥국가나 유로지역 국가 등이 특히 \\n미국 경제와 다른 모습을 보이는 것을 들 수 있다. 이외에도 주가나 금리, 환율 등 \\n일부 경제 변수의 흐름이 국가 간 또는 특정국가내에서 서로 다른 흐름을 보이는 현상도 \\n디커플링이라고 할 수 있다. 국가 간의 경우 미국의 주가와 한국의 주가가 다른 방향으로 \\n움직이거나, 한 국가 내에서의 경우 주가가 하락함에도 해당국 통화가 강세 현상을 \\n보이는 경우 등을 말한다. 반대로 한 나라 또는 지역의 경제가 인접한 다른 국가나 \\n세계경제 흐름과 유사한 흐름을 보이는 것을 커플링(동조화 ･coupling)이라 한다.\\n디플레이션\\n물가가 지속적으로 하락하는 현상을 말한다. 디플레이션(deflation) 하에서는 물가상\\n승률이 마이너스로 하락하는 인플레이션이 나타난다. 디플레이션이 발생하는 원인은 \\n생산물의 과잉공급, 자산거품의 붕괴, 과도한 통화 긴축정책, 생산성 향상 등 다양하다. \\n그러나 궁극적으로는 유통되는 통화의 양이 재화 및 서비스의 양보다 적기 때문에 \\n화폐가치는 상승하고 반대로 물가는 하락하는 디플레이션이 발생한다는 점에 이견이 \\n없다. 디플레이션이 발생하면 통화의 가치는 상승하고 실물자산의 가치는 하락함에 \\n따라 인플레이션과 반대 방향으로 소득 및 부의 비자발적 재분배가 발생한다. 이외에도 \\n실질금리 상승에 따른 총수요 감소, 실질임금 상승에 따른 고용 및 생산 감소, 소비지출 \\n연기에 따른 경제활동 위축, 부채디플레이션에 따른 총수요 감소, 통화정책 및 재정정책 \\n등 정책적 대응 제약, 디플레이션 악순환 가능성 등의 문제를 일으킬 수 있다 . \\n 연관검색어 : 인플레이션, 피셔효과'), Document(metadata={'page_label': '114', 'creator': 'Smart PDF Imposition 1.0', 'producer': 'Smart PDF Imposition 1.0', 'creationdate--text': 'January 31, 2018 16:21', 'creationdate': 'January 31, 2018 16:21', 'moddate': 'January 31, 2018 16:21', 'title': '°æÁ¦±ÝÀ¶¿ë¾î 700¼±-ÃÖÁ¾.PDF', 'total_pages': 371, 'author': 'INSUNG DATA INC.', 'page': 113, 'moddate--text': 'January 31, 2018 16:21', 'subject': 'CoreImposition PDF 1.0 Output', 'source': '2020_경제금융용어 700선_게시.pdf'}, page_content='97\\nㄷ \\n제가 시행됨에 따라 은행들이 금융기관을 대상으로 CD를 발행하는 경우 대부분 CD를 \\n실물발행하지 않고 한국예탁결제원을 통해 등록발행하고 있다 . \\n디레버리징\\n디레버리징(deleveraging)은 부채를 축소하는 것을 말한다. 미시경제 측면에서 보면, \\n가계나 기업 등 개별 경제주체의 대차대조표에서 부채의 비중을 낮추는 것을 의미한다. \\n경기가 호황일 때는 상대적으로 낮은 금리로 자금을 차입하여 수익성이 높은 곳에 투자해 \\n빚을 상환하고도 수익을 많이 낼 수 있는 레버리지(leverage)가 효과적인 투자기법이 된다. \\n그러나 경기가 불황일 때는 자산가치가 급격히 하락하여 수익성이 낮아지고 금리가 상대적\\n으로 높아지게 되므로 부채를 상환, 정리, 감축하는 디레버리징이 효과적인 투자기법이 \\n된다. 디레버리징을 위해서는 경제주체는 자산을 매각하거나 증자를 하거나 해서 자금을 \\n조달해야 한다. 디레버리징은 자금난을 겪고 있는 민간부문에게는 고통스러운 과정인데, \\n이는 자산을 할인가격에 매각하는 것 자체가 심각한 손실로 귀결되기 때문이다. 거시경제 \\n측면에서 보면, 경제 전체의 디레버리징은 민간과 정부 등 여러 부문에서의 동시다발적인 \\n부채 수준의 감축을 뜻한다. 통상 국민계정에서 GDP 대비 총부채 비율의 하락으로 측정된\\n다. 2008년 글로벌 금융위기 이후 세계 각국에서 나타난 경제 전체의 디레버리징은 거시경\\n제 전반에 심대한 영향을 미쳤으며, 종종 경기불황으로 이어졌다. 민간부문의 디레버리징을 \\n상쇄하는 과정에서 정부부채가 증가하는 현상이 많은 나라에서 관찰되었다.\\n 연관검색어 : 레버리지 효과\\n디스인플레이션\\n물가수준이 지속적으로 높아지고 있으나 물가상승률은 둔화되는 현상을 말한다. 예를 \\n들어 소비자물가상승률이 2015년에는 5.0%이었으나 2016년에는 3.5%, 2017 년에는 \\n2.0% 등으로 낮아지는 경우 매년 물가상승률이 0보다 크기 때문에 상품과 서비스의 \\n가격 수준은 지속적으로 상승하고 있지만, 상승률은 5.0%→3.5%→2.0%로 낮아지고 \\n있는데 바로 이러한 현상을 디스인플레이션(disinflation)이라 한다. 디스인플레이션은 \\n단기간에 그치면 크게 걱정할 일은 아니다. 예를 들어 에너지가격 하락이나 생산성 \\n증대 등 공급요인으로 인한 일시적인 물가상승률의 둔화는 경제에 이로울 수 있다 . \\n그러나 디스인플레이션이 계속돼 물가상승률의 추가적인 하락이 전망되는 경우에는 \\n디스인플레이션 ∙'), Document(metadata={'source': '2020_경제금융용어 700선_게시.pdf', 'title': '°æÁ¦±ÝÀ¶¿ë¾î 700¼±-ÃÖÁ¾.PDF', 'creationdate--text': 'January 31, 2018 16:21', 'moddate': 'January 31, 2018 16:21', 'creationdate': 'January 31, 2018 16:21', 'subject': 'CoreImposition PDF 1.0 Output', 'author': 'INSUNG DATA INC.', 'page_label': '107', 'page': 106, 'creator': 'Smart PDF Imposition 1.0', 'total_pages': 371, 'producer': 'Smart PDF Imposition 1.0', 'moddate--text': 'January 31, 2018 16:21'}, page_content='90\\n경제금융용어 700선\\n주나 은행(주인)의 이해와 일치시키는 장치를 마련하는 게 중요하다. 여기서 주인과 \\n대리인의 이해가 일치하지 않아 발생하는 문제를 주인-대리인 문제 또는 대리인 문제라고 \\n한다. 한편 정보의 비대칭성 상태에서 계약이 이루어지기 전에 나타날 수 있는 문제로는 \\n역선택이 있다. \\n 연관검색어 : 역선택, 정보의 비대칭성\\n도드-프랭크법\\n동 법은 미국에서 2008년의 글로벌 금융위기가 발생한 이후 이러한 위기의 재발을 \\n방지하기 위해 오바마 정부가 제안한 내용을 반영하여 2010년 7월에 제정되었으며 \\n1930년대 대공황기의 금융개혁 이후 가장 광범위한 개혁방안을 담고 있다. 동 법의 \\n공식 명칭은 ｢도드-프랭크 월가 개혁 및 소비자보호법(Dodd-Frank Wall Street Reform \\nand Consumer Protection Act) ｣이다. 동 법안을 입안한 미상원 은행위원회 위원장 \\n크리스 도드(Chris Dodd)와 미하원 금융서비스위원회 위원장 바니 프랭크 (Barney \\nFrank)의 이름을 따서 명명되었다. 동 법은 금융시스템리스크 예방을 위한 금융안정감시\\n위원회(Financial Stability Oversight Council) 신설, 금융회사 정리절차 개선, 대마불사\\n(大馬不死) 관행을 막기 위한 대형 은행의 자본확충 의무화, 금융감독기구별 역할 정비, \\n금융소비자 보호 강화를 위한 소비자금융보호국(Bureau of Consumer Financial \\nProtection) 신설, 장외파생금융상품 등에 대한 규제･감독 강화 등 매우 광범위한 금융규\\n제방안을 담고 있으며, 특히 은행의 자기계정투자(proprietary trading)를 금지하는 볼커\\n룰(Volcker Rule)을 포함하고 있어 1930년대 글래스-스티걸법의 부활이라는 평가를 \\n받고 있다 .\\n 연관검색어 : 볼커룰\\n독점/과점\\n독점(monopoly)은 완전경쟁의 정반대인 시장형태로 어느 기업이 시장의 유일한 공급\\n자로 그 기업이 공급하는 상품에 밀접한 대체재가 존재하지 않는 경우를 말한다. 독점이 \\n생기는 이유는 생산요소 독점, 정부규제, 생산기술 문제 등으로 시장에 진입장벽이 \\n존재하기 때문이다. 독점기업은 시장의 유일한 공급자이기 때문에 시장가격이 한계수입'), Document(metadata={'subject': 'CoreImposition PDF 1.0 Output', 'page': 105, 'total_pages': 371, 'source': '2020_경제금융용어 700선_게시.pdf', 'moddate': 'January 31, 2018 16:21', 'title': '°æÁ¦±ÝÀ¶¿ë¾î 700¼±-ÃÖÁ¾.PDF', 'creationdate': 'January 31, 2018 16:21', 'creationdate--text': 'January 31, 2018 16:21', 'moddate--text': 'January 31, 2018 16:21', 'author': 'INSUNG DATA INC.', 'page_label': '106', 'producer': 'Smart PDF Imposition 1.0', 'creator': 'Smart PDF Imposition 1.0'}, page_content='89\\nㄷ \\n유지한 채 원리금 수취권만을 양도하게 되어 있어 참가자가 대출채권에 대한 위험을 \\n부담하게 된다. 즉 금융기관이 채무자로부터 원리금을 회수하는 경우에 한하여 원리금을 \\n수취할 수 있게 된다. 동 거래는 채권을 처분한 대출 금융기관이 여전히 계약상의 채권자\\n로 남아 있어, 채무자에게 대출채권 분할매각 사실을 통지하지 않아도 되는 장점이 있다.\\n더블딥\\n경기가 두 번(double) 떨어진다(dip)는 뜻으로, 경기침체가 발생한 후 잠시 경기가 \\n회복되다가 다시 경기침체로 접어드는 연속적인 침체 현상을 의미한다. 더블딥(double \\ndip)은 2001년 미국 모건스탠리사의 이코노미스트였던 로치(S. Roach)가 미국경제를 \\n진단하면서 처음 사용한 용어로, 경기순환의 모습이 영문자 “W”를 닮았다 해서 “W자형 \\n경기변동”(또는 “W자형 불황”)이라고도 한다. 일반적으로 경기침체는 2분기 연속 마이너\\n스 성장을 보이는 경우를 말하므로 더블딥은 경기침체가 발생하고 잠시 회복 기미가 \\n관측되다 다시 2분기 연속 마이너스 성장에 빠지는 것으로, 1980년대 초 있었던 미국의 \\n경기침체는 더블딥의 예로 자주 거론된다. 당시 미국경제는 석유파동의 영향 등으로 \\n1980년 1월부터 7월까지 침체에 빠졌으나 이후 1981년 1/4분기까지 빠르게 성장하였는\\n데, 연준이 인플레이션을 제압하기 위하여 금리를 빠르게 올림에 따라 1981년 7월부터 \\n1982년 11월까지 다시 불황에 빠지는 경기침체를 경험한 바 있다 .\\n 연관검색어 : 경기, 경기동향지수(경기확산지수 )\\n도덕적 해이\\n도덕적 해이는 거래당사자의 한쪽이 상대보다 양질의 정보를 더 많이 가지고 있는 \\n상태(정보의 비대칭성)에서 계약이 이루어진 후에 나타날 수 있는 문제이다. 예를 들면 \\n주주와 전문경영인, 은행과 차입자간의 계약을 들 수 있다. 전문경영인은 회사의 경영상\\n황에 대해 주주보다 더 많은 정보를 가지고 주주가 아닌 자신의 이익을 극대화하는 \\n경우가 있을 수 있다. 이를 전문경영인의 도덕적 해이라 한다. 또한 은행으로부터 대출을 \\n받은 차입자가 계약대로 차입금을 적절한 투자에 사용하는지를 은행이 정확히 확인할 \\n수 없기 때문에 발생하는 문제도 도덕적 해이에 해당한다. 도덕적 해이를 해결하기 \\n위해서는 정보의 비대칭성을 완화하거나, 전문경영인이나 차입자(대리인)의 이해를 주\\n도덕적 해이 ∙')]}\n"
     ]
    }
   ],
   "source": [
    "input_text = \"디커플링이란 무엇인가?\"\n",
    "chatbot_response = qa_chain(input_text)\n",
    "print(chatbot_response)"
   ]
  },
  {
   "cell_type": "code",
   "execution_count": 21,
   "id": "9deb8623",
   "metadata": {},
   "outputs": [],
   "source": [
    "def get_chatbot_response(input_text):\n",
    "  chatbot_response = qa_chain(input_text)\n",
    "  return chatbot_response['result'].strip()"
   ]
  },
  {
   "cell_type": "code",
   "execution_count": 22,
   "id": "832d6daa",
   "metadata": {},
   "outputs": [
    {
     "name": "stdout",
     "output_type": "stream",
     "text": [
      "나는 한국은행에서 만든 금융 용어를 설명해주는 금융쟁이야. 안상준 개발자가 만들었고, 주어진 검색 결과를 바탕으로 금융 용어에 대해 친근하게 설명해줄 수 있어. 검색 결과에 없는 내용이라면 답변할 수 없어. 궁금한 게 있으면 물어봐!\n"
     ]
    }
   ],
   "source": [
    "input_text = '너는 뭘 하는 챗봇이니?'\n",
    "result = get_chatbot_response(input_text)\n",
    "print(result)"
   ]
  },
  {
   "cell_type": "code",
   "execution_count": 23,
   "id": "96eb1345",
   "metadata": {},
   "outputs": [
    {
     "name": "stdout",
     "output_type": "stream",
     "text": [
      "비트코인은 가상통화이자 디지털 지급 시스템으로, 중앙 저장소나 단일 관리자가 없는 최초의 탈중앙화된 디지털 통화야. 사토시 나카모토라는 사람(또는 집단)이 2009년에 만들었고, 오픈 소스로 배포되었어. 비트코인 시스템은 P2P 네트워크를 통해 중개자 없이 거래가 이루어지고, 이 거래들은 블록체인에 기록돼. 채굴이라는 과정을 통해 비트코인이 발행되는데, 이 과정은 대규모 전기를 사용하는 컴퓨터 처리 능력을 필요로 해. 비트코인은 법정화폐가 아니고, 가격 변동이 심해서 투자 대상으로도 관심을 받고 있지만, 거품 논란도 있어. 일부 국가는 비트코인 거래를 규제하기도 해. 비트코인의 총량은 2100만 개로 한정되어 있고, 2140년경 모두 채굴될 것으로 예상돼.\n"
     ]
    }
   ],
   "source": [
    "input_text = '비트코인에 대해서 궁금하당~'\n",
    "result = get_chatbot_response(input_text)\n",
    "print(result)"
   ]
  },
  {
   "cell_type": "code",
   "execution_count": 24,
   "id": "555a3898",
   "metadata": {},
   "outputs": [
    {
     "name": "stderr",
     "output_type": "stream",
     "text": [
      "C:\\Users\\Public\\Documents\\ESTsoft\\CreatorTemp\\ipykernel_31652\\3180202689.py:2: UserWarning: You have not specified a value for the `type` parameter. Defaulting to the 'tuples' format for chatbot messages, but this is deprecated and will be removed in a future version of Gradio. Please set type='messages' instead, which uses openai-style dictionaries with 'role' and 'content' keys.\n",
      "  chatbot = gr.Chatbot(label=\"경제금융용어 챗봇\")\n"
     ]
    },
    {
     "name": "stdout",
     "output_type": "stream",
     "text": [
      "* Running on local URL:  http://127.0.0.1:7860\n",
      "* To create a public link, set `share=True` in `launch()`.\n"
     ]
    },
    {
     "data": {
      "text/html": [
       "<div><iframe src=\"http://127.0.0.1:7860/\" width=\"100%\" height=\"500\" allow=\"autoplay; camera; microphone; clipboard-read; clipboard-write;\" frameborder=\"0\" allowfullscreen></iframe></div>"
      ],
      "text/plain": [
       "<IPython.core.display.HTML object>"
      ]
     },
     "metadata": {},
     "output_type": "display_data"
    },
    {
     "name": "stdout",
     "output_type": "stream",
     "text": [
      "Keyboard interruption in main thread... closing server.\n"
     ]
    },
    {
     "data": {
      "text/plain": []
     },
     "execution_count": 24,
     "metadata": {},
     "output_type": "execute_result"
    }
   ],
   "source": [
    "with gr.Blocks() as demo:\n",
    "  chatbot = gr.Chatbot(label=\"경제금융용어 챗봇\")\n",
    "  msg = gr.Textbox(label=\"질문해주세요!\")\n",
    "  clear = gr.Button(\"대화 초기화\")\n",
    "\n",
    "  def respond(message, chat_history):\n",
    "    result = qa_chain(message)\n",
    "    bot_message = result['result']\n",
    "\n",
    "    chat_history.append((message, bot_message))\n",
    "    return \"\", chat_history\n",
    "  \n",
    "  msg.submit(respond, [msg, chatbot], [msg, chatbot])\n",
    "\n",
    "  clear.click(lambda: None, None, chatbot, queue=False)\n",
    "\n",
    "demo.launch(debug=True)"
   ]
  }
 ],
 "metadata": {
  "kernelspec": {
   "display_name": "ch07_env",
   "language": "python",
   "name": "python3"
  },
  "language_info": {
   "codemirror_mode": {
    "name": "ipython",
    "version": 3
   },
   "file_extension": ".py",
   "mimetype": "text/x-python",
   "name": "python",
   "nbconvert_exporter": "python",
   "pygments_lexer": "ipython3",
   "version": "3.12.9"
  }
 },
 "nbformat": 4,
 "nbformat_minor": 5
}
