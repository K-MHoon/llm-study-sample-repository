{
 "cells": [
  {
   "cell_type": "code",
   "execution_count": null,
   "id": "74dab4ee",
   "metadata": {},
   "outputs": [
    {
     "data": {
      "text/plain": [
       "('2023_북한인권보고서.pdf', <http.client.HTTPMessage at 0x2f8b3be9ee0>)"
      ]
     },
     "execution_count": 1,
     "metadata": {},
     "output_type": "execute_result"
    }
   ],
   "source": [
    "import os\n",
    "import urllib.request\n",
    "from langchain.document_loaders import PyPDFLoader\n",
    "from langchain.text_splitter import RecursiveCharacterTextSplitter\n",
    "from langchain.embeddings import OpenAIEmbeddings\n",
    "from langchain.vectorstores import Chroma\n",
    "from langchain.vectorstores import FAISS\n",
    "\n",
    "os.environ['OPENAI_API_KEY'] = 'yourServiceKey'\n",
    "\n",
    "urllib.request.urlretrieve(\"https://github.com/chatgpt-kr/openai-api-tutorial/raw/main/ch06/2023_%EB%B6%81%ED%95%9C%EC%9D%B8%EA%B6%8C%EB%B3%B4%EA%B3%A0%EC%84%9C.pdf\", filename=\"2023_북한인권보고서.pdf\")"
   ]
  },
  {
   "cell_type": "code",
   "execution_count": 2,
   "id": "57cf5866",
   "metadata": {},
   "outputs": [
    {
     "name": "stdout",
     "output_type": "stream",
     "text": [
      "청크의 수: 445\n"
     ]
    }
   ],
   "source": [
    "loader = PyPDFLoader('2023_북한인권보고서.pdf')\n",
    "pages = loader.load_and_split()\n",
    "print('청크의 수:', len(pages))"
   ]
  },
  {
   "cell_type": "code",
   "execution_count": 4,
   "id": "19bcd624",
   "metadata": {},
   "outputs": [],
   "source": [
    "text_splitter = RecursiveCharacterTextSplitter(chunk_size=1000, chunk_overlap=0)"
   ]
  },
  {
   "cell_type": "code",
   "execution_count": 5,
   "id": "67c49704",
   "metadata": {},
   "outputs": [
    {
     "name": "stdout",
     "output_type": "stream",
     "text": [
      "분할된 청크의 수: 497\n"
     ]
    }
   ],
   "source": [
    "splitted_docs = text_splitter.split_documents(pages)\n",
    "print('분할된 청크의 수:', len(splitted_docs))"
   ]
  },
  {
   "cell_type": "code",
   "execution_count": 6,
   "id": "0a3307fa",
   "metadata": {},
   "outputs": [
    {
     "name": "stdout",
     "output_type": "stream",
     "text": [
      "청크의 최대 길이 :  1000\n",
      "청크의 최소 길이 :  6\n",
      "청크의 평균 길이 :  748.8269617706237\n"
     ]
    }
   ],
   "source": [
    "chunks = [splitted_doc.page_content for splitted_doc in splitted_docs]\n",
    "print('청크의 최대 길이 : ', max(len(chunk) for chunk in chunks))\n",
    "print('청크의 최소 길이 : ', min(len(chunk) for chunk in chunks))\n",
    "print('청크의 평균 길이 : ', sum(map(len, chunks))/len(chunks))"
   ]
  },
  {
   "cell_type": "code",
   "execution_count": 7,
   "id": "d8c74f67",
   "metadata": {},
   "outputs": [
    {
     "name": "stderr",
     "output_type": "stream",
     "text": [
      "C:\\Users\\Public\\Documents\\ESTsoft\\CreatorTemp\\ipykernel_15028\\468631773.py:1: LangChainDeprecationWarning: The class `OpenAIEmbeddings` was deprecated in LangChain 0.0.9 and will be removed in 1.0. An updated version of the class exists in the :class:`~langchain-openai package and should be used instead. To use it run `pip install -U :class:`~langchain-openai` and import as `from :class:`~langchain_openai import OpenAIEmbeddings``.\n",
      "  db = Chroma.from_documents(splitted_docs, OpenAIEmbeddings(chunk_size=300))\n",
      "Failed to send telemetry event ClientStartEvent: capture() takes 1 positional argument but 3 were given\n",
      "Failed to send telemetry event ClientCreateCollectionEvent: capture() takes 1 positional argument but 3 were given\n"
     ]
    },
    {
     "name": "stdout",
     "output_type": "stream",
     "text": [
      "문서의 수: 497\n"
     ]
    }
   ],
   "source": [
    "db = Chroma.from_documents(splitted_docs, OpenAIEmbeddings(chunk_size=300))\n",
    "print('문서의 수:', db._collection.count())"
   ]
  },
  {
   "cell_type": "code",
   "execution_count": 8,
   "id": "ee611ea3",
   "metadata": {},
   "outputs": [
    {
     "name": "stderr",
     "output_type": "stream",
     "text": [
      "Failed to send telemetry event CollectionQueryEvent: capture() takes 1 positional argument but 3 were given\n"
     ]
    },
    {
     "name": "stdout",
     "output_type": "stream",
     "text": [
      "문서의 수: 4\n"
     ]
    }
   ],
   "source": [
    "question = '북한의 교육과정'\n",
    "docs = db.similarity_search(question)\n",
    "print('문서의 수:', len(docs))"
   ]
  },
  {
   "cell_type": "code",
   "execution_count": 9,
   "id": "3cb6ea20",
   "metadata": {},
   "outputs": [
    {
     "name": "stdout",
     "output_type": "stream",
     "text": [
      "page_content='2023 북한인권보고서\n",
      "40\n",
      "명목의 교육비용이 전가되고 있는 것으로 나타났다. 교과서는 ‘교과\n",
      "서 요금’이라는 명목으로 일정 금액을 내야하는 경우가 많으며, 교\n",
      "과서가 모든 학생에게 충분히 제공되지 않고 학년을 마치면 다음 학\n",
      "년에 교과서를 물려주어야 했다는 사례가 다수 수집되었다. 소학교\n",
      "부터 학교운영비, 꼬마계획 등의 비용을 내야했다는 진술이 꾸준히 \n",
      "수집되고 있는데, 학교시설 현대화 작업이 진행되면서 학교꾸리기 \n",
      "비용이 증가했다고 한다. 학교에서 요구하는 돈이나 물품은 교원에 \n",
      "의해 사실상 강제되고 있었는데, 비용을 내지 못하는 경우 동급생들 \n",
      "앞에서 망신을 주거나 비판하여 형편이 어려운 학생들은 학교를 그\n",
      "만두는 선택을 하는 경우가 많다고 한다. 또한 도시와 농촌 간 교육\n",
      "환경의 차이가 크며 대학입학에서 출신성분에 의한 차별이 있고, 교\n",
      "육기회의 제공에도 경제력이 영향을 미치고 있어 성분·지역·경제\n",
      "력에 따른 차별이 존재하는 것으로 나타났다. 교육환경도 열악한데, \n",
      "학교시설의 현대화 작업에도 불구하고 양호실, 도서관, 위생시설이 \n",
      "없는 학교도 많은 것으로 보인다. 교원에 대한 경제적 보상도 적절\n",
      "히 이루어지지 않아, 교원들은 생계를 유지하기 위해 잘사는 학부모\n",
      "의 원조를 받거나 자신의 텃밭에 학생을 동원시키고 있어 학생들은 \n",
      "제대로 된 교육여건을 보장받지 못하고 있는 것으로 나타났다. 또\n",
      "한, 일반교육보다 정치사상교육을 앞세우고 있으며 교과과정에 실\n",
      "탄사격을 하는 군사훈련을 편성하여 학생들을 의무적으로 참석하게 \n",
      "하고 있다.\n",
      "북한의 사회보장 제도로는 연로연금, 노동능력상실 연금, 유가족 \n",
      "연금 등 생계가 결핍된 경우 기초적인 생계를 보장하기 위한 연금제\n",
      "도가 있으며, 사회보험금의 성격을 지닌 보조금 제도가 있다. 연로' metadata={'trapped': '/False', 'producer': 'Adobe PDF Library 10.0.1', 'creator': 'Adobe InDesign CS6 (Windows)', 'source': '2023_북한인권보고서.pdf', 'page': 41, 'moddate': '2023-07-31T13:57:54+09:00', 'total_pages': 448, 'creationdate': '2023-07-31T13:50:27+09:00', 'page_label': '42'}\n",
      "--------------------\n",
      "page_content='309\t\t북한의\t학제는\t2012년\t전반적\t의무교육(유치원\t1년,\t소학교\t5년,\t초급중학교\t3년,\t고급중학교\t3년)으로\t\n",
      "개편되었는데,\t학제개편\t이전에는\t초급중학교와\t고급중학교를\t통합하여\t중학교\t6년\t과정(1972년~2011\n",
      "년)으로\t운영하였고,\t중학교\t또는\t고등중학교라고\t칭하였다.(통일부\t국립통일교육원,\t『북한의\t이해』,\t\n",
      "2022)' metadata={'total_pages': 448, 'trapped': '/False', 'creationdate': '2023-07-31T13:50:27+09:00', 'page_label': '284', 'moddate': '2023-07-31T13:57:54+09:00', 'creator': 'Adobe InDesign CS6 (Windows)', 'source': '2023_북한인권보고서.pdf', 'producer': 'Adobe PDF Library 10.0.1', 'page': 283}\n",
      "--------------------\n",
      "page_content='2023 북한인권보고서\n",
      "342\n",
      "2018년에 학교에서 추천하여 소년궁전 스키부에 선발되었으나, 체\n",
      "육종합지도원이 자신의 출신성분이 좋지 않다는 이유로 선발명단에\n",
      "서 자신을 제외했다고 진술하였다. 정치범수용소에서는 이주민 자\n",
      "녀의 경우 정규교육과정을 받지 못한다는 증언도 있었다. 정치범수\n",
      "용소에도 소학교와 중학교가 있지만 일반 학교와는 달리 학생들이 \n",
      "책가방 대신 지게를 지고 출석하고 학교에서 농사짓는 법에 대해 배\n",
      "운다고 한다. \n",
      "북한에서는 대학 진학 시에도 출신성분에 따른 차별이 존재하는 \n",
      "것으로 나타났다. 한 증언자는 2019년에 고급중학교를 졸업하고 대\n",
      "학에 진학하려고 했는데, 본인 문건에 어머니가 행방불명으로 되어 \n",
      "있어 출신성분이 나쁘다는 이유로 대학에 진학할 수 없었다고 한다. \n",
      "이러한 차별행위는 교육부의 정책에 따른 것이라고 한다. 다른 증\n",
      "언자는 2018년에 의학대학에 진학하고 싶었는데, 교육과장과 면담\n",
      "하는 과정에서 ‘어머니가 행방불명이라 너 같은 아이는 대학에 가기 \n",
      "어렵다.’는 이야기를 듣고 대학 진학을 포기했다고 한다. 중학교 졸\n",
      "업 후 농민의 자식이라는 이유로 일반 대학뿐만 아니라 공업전문학\n",
      "교도 진학할 수 없었다는 증언도 있었다. \n",
      " \n",
      "(2) 경제력에 따른 차별 \n",
      "북한에서는 교육기회에 있어 경제력에 따른 차별이 존재하는 것\n",
      "으로 보인다. 수집된 증언에 따르면 무상교육제가 유명무실해진 상\n",
      "황에서 교육비 부담으로 경제적 취약계층의 아동들이 장기간 결석하\n",
      "거나 중도에 학교를 그만두는 것으로 나타났다. 한 증언자는 2018년\n",
      "에 아들이 소학교 학생이었는데, 당시 학급 정원의 25% 정도가 경제' metadata={'producer': 'Adobe PDF Library 10.0.1', 'page': 343, 'moddate': '2023-07-31T13:57:54+09:00', 'total_pages': 448, 'page_label': '344', 'source': '2023_북한인권보고서.pdf', 'trapped': '/False', 'creator': 'Adobe InDesign CS6 (Windows)', 'creationdate': '2023-07-31T13:50:27+09:00'}\n",
      "--------------------\n",
      "page_content='2023 북한인권보고서\n",
      "184\n",
      "데, 당국이 실시하는 반종교 교육을 통해 기독교를 접한 경우였다. 기\n",
      "독교 관련 북한당국의 반종교 교육은 학교 교과과정에서 뿐만 아니\n",
      "라 졸업 후 조직생활을 통해서도 이루어지고 있었다. 수집된 증언에 \n",
      "따르면 북한에서 반종교 교육을 받고 종교에 대한 부정적 인식이 증\n",
      "가했다고 한다. 기독교를 믿는 사람을 반동분자로 인식하고 있었다\n",
      "는 증언들도 있었다. 한 증언자는 2015년에 계급교양관을 1달에 1번\n",
      "씩 참관해야 했는데, 거기서 ‘종교는 침략자들이 북한에 가져온 것으\n",
      "로 그들이 성경도 가져왔다’는 내용이 포함된 반종교 교육을 받았다\n",
      "고 한다. 기독교인들은 제국주의적 침략의 앞잡이이므로 반민족적·\n",
      "반혁명적 적대계층이라는 내용도 있었다고 한다. 다른 증언자는 교육\n",
      "기관, 사회기관, 법기관에서 ‘종교는 허황된 것이고 거짓’이며 선교사\n",
      "는 악한 자라고 세뇌가 될 정도로 지속적으로 교육하기 때문에 감히 \n",
      "종교에 관심을 가질 생각도 하지 못했고 ‘선교사’라는 단어를 들으면 \n",
      "지금도 무섭다고 한다. 인민반 강연 등에서 기독교를 믿는 사람은 반\n",
      "동분자라고 하면서 이들을 보면 신고하라고 했다는 증언도 있었다. \n",
      "“주민들을 모아 놓고 교양하는 때가 있었는데, 그 때 처음 ‘성경책 \n",
      "사진, 예배하는 모습의 사진’을 본 적이 있습니다. 반동조직이라고 \n",
      "교육하면서 성경에는 미신에 관한 것이 적혀있어 이것을 읽게 되면 \n",
      "사상이 변질되니 이런 책을 주변에서 보게 되면 신고하라고 했습니\n",
      "다. 이들은 국가 반역자로 이 땅에서 사라져야 한다고 선전했습니\n",
      "다. 그래서 재북시 저 뿐만이 아니라 북한 주민들은 성경책이 북한 \n",
      "제도에 대해 안 좋게 적어놓은 책으로 알고 있었고 이를 소지하면 \n",
      "죽임을 당한다고 알고 있었습니다. ”\n",
      "북한에서 기독교를 탄압하는 이유는 기독교의 유일신 사상이 수\n",
      "령 우상화 정책과 주체사상에 반하기 때문이라고 한다. 한 증언자는' metadata={'page_label': '186', 'total_pages': 448, 'page': 185, 'creator': 'Adobe InDesign CS6 (Windows)', 'moddate': '2023-07-31T13:57:54+09:00', 'creationdate': '2023-07-31T13:50:27+09:00', 'producer': 'Adobe PDF Library 10.0.1', 'trapped': '/False', 'source': '2023_북한인권보고서.pdf'}\n",
      "--------------------\n"
     ]
    }
   ],
   "source": [
    "for doc in docs:\n",
    "  print(doc)\n",
    "  print('--' * 10)"
   ]
  },
  {
   "cell_type": "code",
   "execution_count": 11,
   "id": "3bcfed84",
   "metadata": {},
   "outputs": [
    {
     "name": "stderr",
     "output_type": "stream",
     "text": [
      "Failed to send telemetry event ClientStartEvent: capture() takes 1 positional argument but 3 were given\n",
      "Failed to send telemetry event ClientCreateCollectionEvent: capture() takes 1 positional argument but 3 were given\n"
     ]
    },
    {
     "name": "stdout",
     "output_type": "stream",
     "text": [
      "문서의 수: 497\n"
     ]
    }
   ],
   "source": [
    "db_to_file = Chroma.from_documents(splitted_docs, OpenAIEmbeddings(chunk_size=300), persist_directory='./chroma_test.db')\n",
    "print('문서의 수:', db_to_file._collection.count())"
   ]
  },
  {
   "cell_type": "code",
   "execution_count": 12,
   "id": "8dee7d58",
   "metadata": {},
   "outputs": [
    {
     "name": "stderr",
     "output_type": "stream",
     "text": [
      "C:\\Users\\Public\\Documents\\ESTsoft\\CreatorTemp\\ipykernel_15028\\1593741947.py:1: LangChainDeprecationWarning: The class `Chroma` was deprecated in LangChain 0.2.9 and will be removed in 1.0. An updated version of the class exists in the :class:`~langchain-chroma package and should be used instead. To use it run `pip install -U :class:`~langchain-chroma` and import as `from :class:`~langchain_chroma import Chroma``.\n",
      "  db_from_file = Chroma(persist_directory='./chroma_test.db', embedding_function=OpenAIEmbeddings(chunk_size=300))\n",
      "Failed to send telemetry event ClientStartEvent: capture() takes 1 positional argument but 3 were given\n",
      "Failed to send telemetry event ClientCreateCollectionEvent: capture() takes 1 positional argument but 3 were given\n"
     ]
    },
    {
     "name": "stdout",
     "output_type": "stream",
     "text": [
      "문서의 수: 497\n"
     ]
    }
   ],
   "source": [
    "db_from_file = Chroma(persist_directory='./chroma_test.db', embedding_function=OpenAIEmbeddings(chunk_size=300))\n",
    "print('문서의 수:', db_from_file._collection.count())"
   ]
  },
  {
   "cell_type": "code",
   "execution_count": 14,
   "id": "723203cd",
   "metadata": {},
   "outputs": [
    {
     "name": "stderr",
     "output_type": "stream",
     "text": [
      "Failed to send telemetry event CollectionQueryEvent: capture() takes 1 positional argument but 3 were given\n"
     ]
    },
    {
     "name": "stdout",
     "output_type": "stream",
     "text": [
      "(Document(metadata={'trapped': '/False', 'page_label': '42', 'creationdate': '2023-07-31T13:50:27+09:00', 'page': 41, 'producer': 'Adobe PDF Library 10.0.1', 'creator': 'Adobe InDesign CS6 (Windows)', 'total_pages': 448, 'moddate': '2023-07-31T13:57:54+09:00', 'source': '2023_북한인권보고서.pdf'}, page_content='2023 북한인권보고서\\n40\\n명목의 교육비용이 전가되고 있는 것으로 나타났다. 교과서는 ‘교과\\n서 요금’이라는 명목으로 일정 금액을 내야하는 경우가 많으며, 교\\n과서가 모든 학생에게 충분히 제공되지 않고 학년을 마치면 다음 학\\n년에 교과서를 물려주어야 했다는 사례가 다수 수집되었다. 소학교\\n부터 학교운영비, 꼬마계획 등의 비용을 내야했다는 진술이 꾸준히 \\n수집되고 있는데, 학교시설 현대화 작업이 진행되면서 학교꾸리기 \\n비용이 증가했다고 한다. 학교에서 요구하는 돈이나 물품은 교원에 \\n의해 사실상 강제되고 있었는데, 비용을 내지 못하는 경우 동급생들 \\n앞에서 망신을 주거나 비판하여 형편이 어려운 학생들은 학교를 그\\n만두는 선택을 하는 경우가 많다고 한다. 또한 도시와 농촌 간 교육\\n환경의 차이가 크며 대학입학에서 출신성분에 의한 차별이 있고, 교\\n육기회의 제공에도 경제력이 영향을 미치고 있어 성분·지역·경제\\n력에 따른 차별이 존재하는 것으로 나타났다. 교육환경도 열악한데, \\n학교시설의 현대화 작업에도 불구하고 양호실, 도서관, 위생시설이 \\n없는 학교도 많은 것으로 보인다. 교원에 대한 경제적 보상도 적절\\n히 이루어지지 않아, 교원들은 생계를 유지하기 위해 잘사는 학부모\\n의 원조를 받거나 자신의 텃밭에 학생을 동원시키고 있어 학생들은 \\n제대로 된 교육여건을 보장받지 못하고 있는 것으로 나타났다. 또\\n한, 일반교육보다 정치사상교육을 앞세우고 있으며 교과과정에 실\\n탄사격을 하는 군사훈련을 편성하여 학생들을 의무적으로 참석하게 \\n하고 있다.\\n북한의 사회보장 제도로는 연로연금, 노동능력상실 연금, 유가족 \\n연금 등 생계가 결핍된 경우 기초적인 생계를 보장하기 위한 연금제\\n도가 있으며, 사회보험금의 성격을 지닌 보조금 제도가 있다. 연로'), 0.8274064847851906)\n",
      "--------------------\n",
      "(Document(metadata={'moddate': '2023-07-31T13:57:54+09:00', 'total_pages': 448, 'page_label': '284', 'page': 283, 'producer': 'Adobe PDF Library 10.0.1', 'trapped': '/False', 'creationdate': '2023-07-31T13:50:27+09:00', 'creator': 'Adobe InDesign CS6 (Windows)', 'source': '2023_북한인권보고서.pdf'}, page_content='309\\t\\t북한의\\t학제는\\t2012년\\t전반적\\t의무교육(유치원\\t1년,\\t소학교\\t5년,\\t초급중학교\\t3년,\\t고급중학교\\t3년)으로\\t\\n개편되었는데,\\t학제개편\\t이전에는\\t초급중학교와\\t고급중학교를\\t통합하여\\t중학교\\t6년\\t과정(1972년~2011\\n년)으로\\t운영하였고,\\t중학교\\t또는\\t고등중학교라고\\t칭하였다.(통일부\\t국립통일교육원,\\t『북한의\\t이해』,\\t\\n2022)'), 0.8273746006942921)\n",
      "--------------------\n",
      "(Document(metadata={'creator': 'Adobe InDesign CS6 (Windows)', 'moddate': '2023-07-31T13:57:54+09:00', 'total_pages': 448, 'page': 343, 'creationdate': '2023-07-31T13:50:27+09:00', 'trapped': '/False', 'source': '2023_북한인권보고서.pdf', 'page_label': '344', 'producer': 'Adobe PDF Library 10.0.1'}, page_content='2023 북한인권보고서\\n342\\n2018년에 학교에서 추천하여 소년궁전 스키부에 선발되었으나, 체\\n육종합지도원이 자신의 출신성분이 좋지 않다는 이유로 선발명단에\\n서 자신을 제외했다고 진술하였다. 정치범수용소에서는 이주민 자\\n녀의 경우 정규교육과정을 받지 못한다는 증언도 있었다. 정치범수\\n용소에도 소학교와 중학교가 있지만 일반 학교와는 달리 학생들이 \\n책가방 대신 지게를 지고 출석하고 학교에서 농사짓는 법에 대해 배\\n운다고 한다. \\n북한에서는 대학 진학 시에도 출신성분에 따른 차별이 존재하는 \\n것으로 나타났다. 한 증언자는 2019년에 고급중학교를 졸업하고 대\\n학에 진학하려고 했는데, 본인 문건에 어머니가 행방불명으로 되어 \\n있어 출신성분이 나쁘다는 이유로 대학에 진학할 수 없었다고 한다. \\n이러한 차별행위는 교육부의 정책에 따른 것이라고 한다. 다른 증\\n언자는 2018년에 의학대학에 진학하고 싶었는데, 교육과장과 면담\\n하는 과정에서 ‘어머니가 행방불명이라 너 같은 아이는 대학에 가기 \\n어렵다.’는 이야기를 듣고 대학 진학을 포기했다고 한다. 중학교 졸\\n업 후 농민의 자식이라는 이유로 일반 대학뿐만 아니라 공업전문학\\n교도 진학할 수 없었다는 증언도 있었다. \\n \\n(2) 경제력에 따른 차별 \\n북한에서는 교육기회에 있어 경제력에 따른 차별이 존재하는 것\\n으로 보인다. 수집된 증언에 따르면 무상교육제가 유명무실해진 상\\n황에서 교육비 부담으로 경제적 취약계층의 아동들이 장기간 결석하\\n거나 중도에 학교를 그만두는 것으로 나타났다. 한 증언자는 2018년\\n에 아들이 소학교 학생이었는데, 당시 학급 정원의 25% 정도가 경제'), 0.8261716031972457)\n",
      "--------------------\n"
     ]
    }
   ],
   "source": [
    "question = '북한의 교육과정'\n",
    "top_three_docs = db_from_file.similarity_search_with_relevance_scores(question, k=3)\n",
    "\n",
    "for doc in top_three_docs:\n",
    "  print(doc)\n",
    "  print('--'* 10)"
   ]
  },
  {
   "cell_type": "code",
   "execution_count": 16,
   "id": "d8745ea4",
   "metadata": {},
   "outputs": [
    {
     "name": "stdout",
     "output_type": "stream",
     "text": [
      "문서의 수: 497\n"
     ]
    }
   ],
   "source": [
    "faiss_db = FAISS.from_documents(splitted_docs, OpenAIEmbeddings(chunk_size=300))\n",
    "print('문서의 수:', faiss_db.index.ntotal)"
   ]
  },
  {
   "cell_type": "code",
   "execution_count": 17,
   "id": "653efa98",
   "metadata": {},
   "outputs": [],
   "source": [
    "faiss_db.save_local('faiss_index')\n",
    "\n",
    "new_db_faiss = FAISS.load_local('faiss_index', OpenAIEmbeddings(chunk_size=300), allow_dangerous_deserialization=True)"
   ]
  },
  {
   "cell_type": "code",
   "execution_count": 18,
   "id": "835b7bd5",
   "metadata": {},
   "outputs": [
    {
     "name": "stdout",
     "output_type": "stream",
     "text": [
      "page_content='2023 북한인권보고서\n",
      "40\n",
      "명목의 교육비용이 전가되고 있는 것으로 나타났다. 교과서는 ‘교과\n",
      "서 요금’이라는 명목으로 일정 금액을 내야하는 경우가 많으며, 교\n",
      "과서가 모든 학생에게 충분히 제공되지 않고 학년을 마치면 다음 학\n",
      "년에 교과서를 물려주어야 했다는 사례가 다수 수집되었다. 소학교\n",
      "부터 학교운영비, 꼬마계획 등의 비용을 내야했다는 진술이 꾸준히 \n",
      "수집되고 있는데, 학교시설 현대화 작업이 진행되면서 학교꾸리기 \n",
      "비용이 증가했다고 한다. 학교에서 요구하는 돈이나 물품은 교원에 \n",
      "의해 사실상 강제되고 있었는데, 비용을 내지 못하는 경우 동급생들 \n",
      "앞에서 망신을 주거나 비판하여 형편이 어려운 학생들은 학교를 그\n",
      "만두는 선택을 하는 경우가 많다고 한다. 또한 도시와 농촌 간 교육\n",
      "환경의 차이가 크며 대학입학에서 출신성분에 의한 차별이 있고, 교\n",
      "육기회의 제공에도 경제력이 영향을 미치고 있어 성분·지역·경제\n",
      "력에 따른 차별이 존재하는 것으로 나타났다. 교육환경도 열악한데, \n",
      "학교시설의 현대화 작업에도 불구하고 양호실, 도서관, 위생시설이 \n",
      "없는 학교도 많은 것으로 보인다. 교원에 대한 경제적 보상도 적절\n",
      "히 이루어지지 않아, 교원들은 생계를 유지하기 위해 잘사는 학부모\n",
      "의 원조를 받거나 자신의 텃밭에 학생을 동원시키고 있어 학생들은 \n",
      "제대로 된 교육여건을 보장받지 못하고 있는 것으로 나타났다. 또\n",
      "한, 일반교육보다 정치사상교육을 앞세우고 있으며 교과과정에 실\n",
      "탄사격을 하는 군사훈련을 편성하여 학생들을 의무적으로 참석하게 \n",
      "하고 있다.\n",
      "북한의 사회보장 제도로는 연로연금, 노동능력상실 연금, 유가족 \n",
      "연금 등 생계가 결핍된 경우 기초적인 생계를 보장하기 위한 연금제\n",
      "도가 있으며, 사회보험금의 성격을 지닌 보조금 제도가 있다. 연로' metadata={'producer': 'Adobe PDF Library 10.0.1', 'creator': 'Adobe InDesign CS6 (Windows)', 'creationdate': '2023-07-31T13:50:27+09:00', 'moddate': '2023-07-31T13:57:54+09:00', 'trapped': '/False', 'source': '2023_북한인권보고서.pdf', 'total_pages': 448, 'page': 41, 'page_label': '42'}\n",
      "--------------------\n",
      "page_content='309\t\t북한의\t학제는\t2012년\t전반적\t의무교육(유치원\t1년,\t소학교\t5년,\t초급중학교\t3년,\t고급중학교\t3년)으로\t\n",
      "개편되었는데,\t학제개편\t이전에는\t초급중학교와\t고급중학교를\t통합하여\t중학교\t6년\t과정(1972년~2011\n",
      "년)으로\t운영하였고,\t중학교\t또는\t고등중학교라고\t칭하였다.(통일부\t국립통일교육원,\t『북한의\t이해』,\t\n",
      "2022)' metadata={'producer': 'Adobe PDF Library 10.0.1', 'creator': 'Adobe InDesign CS6 (Windows)', 'creationdate': '2023-07-31T13:50:27+09:00', 'moddate': '2023-07-31T13:57:54+09:00', 'trapped': '/False', 'source': '2023_북한인권보고서.pdf', 'total_pages': 448, 'page': 283, 'page_label': '284'}\n",
      "--------------------\n",
      "page_content='2023 북한인권보고서\n",
      "184\n",
      "데, 당국이 실시하는 반종교 교육을 통해 기독교를 접한 경우였다. 기\n",
      "독교 관련 북한당국의 반종교 교육은 학교 교과과정에서 뿐만 아니\n",
      "라 졸업 후 조직생활을 통해서도 이루어지고 있었다. 수집된 증언에 \n",
      "따르면 북한에서 반종교 교육을 받고 종교에 대한 부정적 인식이 증\n",
      "가했다고 한다. 기독교를 믿는 사람을 반동분자로 인식하고 있었다\n",
      "는 증언들도 있었다. 한 증언자는 2015년에 계급교양관을 1달에 1번\n",
      "씩 참관해야 했는데, 거기서 ‘종교는 침략자들이 북한에 가져온 것으\n",
      "로 그들이 성경도 가져왔다’는 내용이 포함된 반종교 교육을 받았다\n",
      "고 한다. 기독교인들은 제국주의적 침략의 앞잡이이므로 반민족적·\n",
      "반혁명적 적대계층이라는 내용도 있었다고 한다. 다른 증언자는 교육\n",
      "기관, 사회기관, 법기관에서 ‘종교는 허황된 것이고 거짓’이며 선교사\n",
      "는 악한 자라고 세뇌가 될 정도로 지속적으로 교육하기 때문에 감히 \n",
      "종교에 관심을 가질 생각도 하지 못했고 ‘선교사’라는 단어를 들으면 \n",
      "지금도 무섭다고 한다. 인민반 강연 등에서 기독교를 믿는 사람은 반\n",
      "동분자라고 하면서 이들을 보면 신고하라고 했다는 증언도 있었다. \n",
      "“주민들을 모아 놓고 교양하는 때가 있었는데, 그 때 처음 ‘성경책 \n",
      "사진, 예배하는 모습의 사진’을 본 적이 있습니다. 반동조직이라고 \n",
      "교육하면서 성경에는 미신에 관한 것이 적혀있어 이것을 읽게 되면 \n",
      "사상이 변질되니 이런 책을 주변에서 보게 되면 신고하라고 했습니\n",
      "다. 이들은 국가 반역자로 이 땅에서 사라져야 한다고 선전했습니\n",
      "다. 그래서 재북시 저 뿐만이 아니라 북한 주민들은 성경책이 북한 \n",
      "제도에 대해 안 좋게 적어놓은 책으로 알고 있었고 이를 소지하면 \n",
      "죽임을 당한다고 알고 있었습니다. ”\n",
      "북한에서 기독교를 탄압하는 이유는 기독교의 유일신 사상이 수\n",
      "령 우상화 정책과 주체사상에 반하기 때문이라고 한다. 한 증언자는' metadata={'producer': 'Adobe PDF Library 10.0.1', 'creator': 'Adobe InDesign CS6 (Windows)', 'creationdate': '2023-07-31T13:50:27+09:00', 'moddate': '2023-07-31T13:57:54+09:00', 'trapped': '/False', 'source': '2023_북한인권보고서.pdf', 'total_pages': 448, 'page': 185, 'page_label': '186'}\n",
      "--------------------\n",
      "page_content='2023 북한인권보고서\n",
      "342\n",
      "2018년에 학교에서 추천하여 소년궁전 스키부에 선발되었으나, 체\n",
      "육종합지도원이 자신의 출신성분이 좋지 않다는 이유로 선발명단에\n",
      "서 자신을 제외했다고 진술하였다. 정치범수용소에서는 이주민 자\n",
      "녀의 경우 정규교육과정을 받지 못한다는 증언도 있었다. 정치범수\n",
      "용소에도 소학교와 중학교가 있지만 일반 학교와는 달리 학생들이 \n",
      "책가방 대신 지게를 지고 출석하고 학교에서 농사짓는 법에 대해 배\n",
      "운다고 한다. \n",
      "북한에서는 대학 진학 시에도 출신성분에 따른 차별이 존재하는 \n",
      "것으로 나타났다. 한 증언자는 2019년에 고급중학교를 졸업하고 대\n",
      "학에 진학하려고 했는데, 본인 문건에 어머니가 행방불명으로 되어 \n",
      "있어 출신성분이 나쁘다는 이유로 대학에 진학할 수 없었다고 한다. \n",
      "이러한 차별행위는 교육부의 정책에 따른 것이라고 한다. 다른 증\n",
      "언자는 2018년에 의학대학에 진학하고 싶었는데, 교육과장과 면담\n",
      "하는 과정에서 ‘어머니가 행방불명이라 너 같은 아이는 대학에 가기 \n",
      "어렵다.’는 이야기를 듣고 대학 진학을 포기했다고 한다. 중학교 졸\n",
      "업 후 농민의 자식이라는 이유로 일반 대학뿐만 아니라 공업전문학\n",
      "교도 진학할 수 없었다는 증언도 있었다. \n",
      " \n",
      "(2) 경제력에 따른 차별 \n",
      "북한에서는 교육기회에 있어 경제력에 따른 차별이 존재하는 것\n",
      "으로 보인다. 수집된 증언에 따르면 무상교육제가 유명무실해진 상\n",
      "황에서 교육비 부담으로 경제적 취약계층의 아동들이 장기간 결석하\n",
      "거나 중도에 학교를 그만두는 것으로 나타났다. 한 증언자는 2018년\n",
      "에 아들이 소학교 학생이었는데, 당시 학급 정원의 25% 정도가 경제' metadata={'producer': 'Adobe PDF Library 10.0.1', 'creator': 'Adobe InDesign CS6 (Windows)', 'creationdate': '2023-07-31T13:50:27+09:00', 'moddate': '2023-07-31T13:57:54+09:00', 'trapped': '/False', 'source': '2023_북한인권보고서.pdf', 'total_pages': 448, 'page': 343, 'page_label': '344'}\n",
      "--------------------\n"
     ]
    }
   ],
   "source": [
    "question = '북한의 교육 과정'\n",
    "docs = new_db_faiss.similarity_search(question)\n",
    "\n",
    "for doc in docs:\n",
    "  print(doc)\n",
    "  print('--' * 10)"
   ]
  }
 ],
 "metadata": {
  "kernelspec": {
   "display_name": "ch06_env",
   "language": "python",
   "name": "python3"
  },
  "language_info": {
   "codemirror_mode": {
    "name": "ipython",
    "version": 3
   },
   "file_extension": ".py",
   "mimetype": "text/x-python",
   "name": "python",
   "nbconvert_exporter": "python",
   "pygments_lexer": "ipython3",
   "version": "3.12.9"
  }
 },
 "nbformat": 4,
 "nbformat_minor": 5
}
