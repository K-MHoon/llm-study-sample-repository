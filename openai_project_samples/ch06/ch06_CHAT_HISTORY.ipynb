{
 "cells": [
  {
   "cell_type": "code",
   "execution_count": 1,
   "id": "ad3a0800",
   "metadata": {},
   "outputs": [],
   "source": [
    "import os\n",
    "from langchain_openai import ChatOpenAI\n",
    "from langchain_core.prompts import PromptTemplate\n",
    "from langchain_core.runnables.history import RunnableWithMessageHistory\n",
    "from langchain_community.chat_message_histories import ChatMessageHistory\n",
    "from langchain_core.tracers.stdout import ConsoleCallbackHandler"
   ]
  },
  {
   "cell_type": "code",
   "execution_count": null,
   "id": "b66be5fd",
   "metadata": {},
   "outputs": [
    {
     "name": "stdout",
     "output_type": "stream",
     "text": [
      "세종대왕은 조선시대 4대 왕 중 하나로, 조선시대의 제4대 군주이자 문신이다. 세종대왕은 1418년에 태어나 1450년에 왕위에 오르고, 1418년부터 1450년까지 32년 동안 통치했다. 그는 조선시대의 가장 위대한 왕 중 하나로 꼽히며, 한글을 창제하고 과학기술, 문화, 예술 등을 발전시키는 데 큰 기여를 했다. 세종대왕은 또한 국방력을 강화하고 행정체제를 현대화하는 등 다양한 분야에서 혁신을 이끌었다. 그의 통치는 조선시대의 전성기를 이루는 데 큰 역할을 했다.\n"
     ]
    }
   ],
   "source": [
    "os.environ['OPENAI_API_KEY'] = \"yourServiceKey\"\n",
    "\n",
    "llm = ChatOpenAI(\n",
    "  temperature=0.1, # 창의성 (0.0 ~ 2.0)\n",
    "  max_tokens=2048,\n",
    "  model_name=\"gpt-3.5-turbo\"\n",
    ")\n",
    "\n",
    "question = \"세종대왕이 누구인지 설명해주세요\"\n",
    "\n",
    "result = llm.invoke(question)\n",
    "print(result.content)"
   ]
  },
  {
   "cell_type": "code",
   "execution_count": 3,
   "id": "bd05a59e",
   "metadata": {},
   "outputs": [
    {
     "name": "stdout",
     "output_type": "stream",
     "text": [
      "input_variables=['who'] input_types={} partial_variables={} template='{who}가 누구인지 설명해주세요'\n"
     ]
    }
   ],
   "source": [
    "template = \"{who}가 누구인지 설명해주세요\"\n",
    "\n",
    "prompt = PromptTemplate(\n",
    "  template=template, input_variables=['who']\n",
    ")\n",
    "\n",
    "print(prompt)"
   ]
  },
  {
   "cell_type": "code",
   "execution_count": 5,
   "id": "49cb4ba9",
   "metadata": {},
   "outputs": [
    {
     "name": "stdout",
     "output_type": "stream",
     "text": [
      "\u001b[32;1m\u001b[1;3m[chain/start]\u001b[0m \u001b[1m[chain:RunnableSequence] Entering Chain run with input:\n",
      "\u001b[0m{\n",
      "  \"who\": \"이순신 장군\"\n",
      "}\n",
      "\u001b[32;1m\u001b[1;3m[chain/start]\u001b[0m \u001b[1m[chain:RunnableSequence > prompt:PromptTemplate] Entering Prompt run with input:\n",
      "\u001b[0m{\n",
      "  \"who\": \"이순신 장군\"\n",
      "}\n",
      "\u001b[36;1m\u001b[1;3m[chain/end]\u001b[0m \u001b[1m[chain:RunnableSequence > prompt:PromptTemplate] [1ms] Exiting Prompt run with output:\n",
      "\u001b[0m[outputs]\n",
      "\u001b[32;1m\u001b[1;3m[llm/start]\u001b[0m \u001b[1m[chain:RunnableSequence > llm:ChatOpenAI] Entering LLM run with input:\n",
      "\u001b[0m{\n",
      "  \"prompts\": [\n",
      "    \"Human: 이순신 장군가 누구인지 설명해주세요\"\n",
      "  ]\n",
      "}\n",
      "\u001b[36;1m\u001b[1;3m[llm/end]\u001b[0m \u001b[1m[chain:RunnableSequence > llm:ChatOpenAI] [5.17s] Exiting LLM run with output:\n",
      "\u001b[0m{\n",
      "  \"generations\": [\n",
      "    [\n",
      "      {\n",
      "        \"text\": \"이순신 장군은 조선시대의 무신이자 미신으로 유명한 역사적 인물입니다. 그는 조선시대 중기에 살았으며, 조선의 해상군을 이끌었던 뛰어난 장군으로서 유명합니다. 이순신은 일본의 침략을 막기 위해 수많은 전투를 치뤘고, 특히 명량 해전에서 일본의 강력한 함대를 물리쳐 조선의 승리를 이끌었습니다. 이순신은 그의 뛰어난 전략과 냉정한 판단력으로 많은 사람들에게 존경받고 있으며, 한국 역사상 가장 위대한 장군 중 한 명으로 평가받고 있습니다.\",\n",
      "        \"generation_info\": {\n",
      "          \"finish_reason\": \"stop\",\n",
      "          \"logprobs\": null\n",
      "        },\n",
      "        \"type\": \"ChatGeneration\",\n",
      "        \"message\": {\n",
      "          \"lc\": 1,\n",
      "          \"type\": \"constructor\",\n",
      "          \"id\": [\n",
      "            \"langchain\",\n",
      "            \"schema\",\n",
      "            \"messages\",\n",
      "            \"AIMessage\"\n",
      "          ],\n",
      "          \"kwargs\": {\n",
      "            \"content\": \"이순신 장군은 조선시대의 무신이자 미신으로 유명한 역사적 인물입니다. 그는 조선시대 중기에 살았으며, 조선의 해상군을 이끌었던 뛰어난 장군으로서 유명합니다. 이순신은 일본의 침략을 막기 위해 수많은 전투를 치뤘고, 특히 명량 해전에서 일본의 강력한 함대를 물리쳐 조선의 승리를 이끌었습니다. 이순신은 그의 뛰어난 전략과 냉정한 판단력으로 많은 사람들에게 존경받고 있으며, 한국 역사상 가장 위대한 장군 중 한 명으로 평가받고 있습니다.\",\n",
      "            \"additional_kwargs\": {\n",
      "              \"refusal\": null\n",
      "            },\n",
      "            \"response_metadata\": {\n",
      "              \"token_usage\": {\n",
      "                \"completion_tokens\": 254,\n",
      "                \"prompt_tokens\": 27,\n",
      "                \"total_tokens\": 281,\n",
      "                \"completion_tokens_details\": {\n",
      "                  \"accepted_prediction_tokens\": 0,\n",
      "                  \"audio_tokens\": 0,\n",
      "                  \"reasoning_tokens\": 0,\n",
      "                  \"rejected_prediction_tokens\": 0\n",
      "                },\n",
      "                \"prompt_tokens_details\": {\n",
      "                  \"audio_tokens\": 0,\n",
      "                  \"cached_tokens\": 0\n",
      "                }\n",
      "              },\n",
      "              \"model_name\": \"gpt-3.5-turbo-0125\",\n",
      "              \"system_fingerprint\": null,\n",
      "              \"id\": \"chatcmpl-BpyIAoitPeFfb1IJiWMTBx7tAXBhO\",\n",
      "              \"service_tier\": \"default\",\n",
      "              \"finish_reason\": \"stop\",\n",
      "              \"logprobs\": null\n",
      "            },\n",
      "            \"type\": \"ai\",\n",
      "            \"id\": \"run--bc9b4c5f-ec27-419b-a243-3a9a13c285f2-0\",\n",
      "            \"usage_metadata\": {\n",
      "              \"input_tokens\": 27,\n",
      "              \"output_tokens\": 254,\n",
      "              \"total_tokens\": 281,\n",
      "              \"input_token_details\": {\n",
      "                \"audio\": 0,\n",
      "                \"cache_read\": 0\n",
      "              },\n",
      "              \"output_token_details\": {\n",
      "                \"audio\": 0,\n",
      "                \"reasoning\": 0\n",
      "              }\n",
      "            },\n",
      "            \"tool_calls\": [],\n",
      "            \"invalid_tool_calls\": []\n",
      "          }\n",
      "        }\n",
      "      }\n",
      "    ]\n",
      "  ],\n",
      "  \"llm_output\": {\n",
      "    \"token_usage\": {\n",
      "      \"completion_tokens\": 254,\n",
      "      \"prompt_tokens\": 27,\n",
      "      \"total_tokens\": 281,\n",
      "      \"completion_tokens_details\": {\n",
      "        \"accepted_prediction_tokens\": 0,\n",
      "        \"audio_tokens\": 0,\n",
      "        \"reasoning_tokens\": 0,\n",
      "        \"rejected_prediction_tokens\": 0\n",
      "      },\n",
      "      \"prompt_tokens_details\": {\n",
      "        \"audio_tokens\": 0,\n",
      "        \"cached_tokens\": 0\n",
      "      }\n",
      "    },\n",
      "    \"model_name\": \"gpt-3.5-turbo-0125\",\n",
      "    \"system_fingerprint\": null,\n",
      "    \"id\": \"chatcmpl-BpyIAoitPeFfb1IJiWMTBx7tAXBhO\",\n",
      "    \"service_tier\": \"default\"\n",
      "  },\n",
      "  \"run\": null,\n",
      "  \"type\": \"LLMResult\"\n",
      "}\n",
      "\u001b[36;1m\u001b[1;3m[chain/end]\u001b[0m \u001b[1m[chain:RunnableSequence] [5.18s] Exiting Chain run with output:\n",
      "\u001b[0m[outputs]\n",
      "이순신 장군은 조선시대의 무신이자 미신으로 유명한 역사적 인물입니다. 그는 조선시대 중기에 살았으며, 조선의 해상군을 이끌었던 뛰어난 장군으로서 유명합니다. 이순신은 일본의 침략을 막기 위해 수많은 전투를 치뤘고, 특히 명량 해전에서 일본의 강력한 함대를 물리쳐 조선의 승리를 이끌었습니다. 이순신은 그의 뛰어난 전략과 냉정한 판단력으로 많은 사람들에게 존경받고 있으며, 한국 역사상 가장 위대한 장군 중 한 명으로 평가받고 있습니다.\n"
     ]
    }
   ],
   "source": [
    "llm_chain = prompt | llm\n",
    "\n",
    "result = llm_chain.invoke({\"who\":\"이순신 장군\"}, config={\"callbacks\": [ConsoleCallbackHandler()]})\n",
    "print(result.content)"
   ]
  },
  {
   "cell_type": "code",
   "execution_count": 6,
   "id": "48ae7da8",
   "metadata": {},
   "outputs": [],
   "source": [
    "template = \"\"\"\n",
    "아래는 사람과 AI의 친근한 대화입니다. AI의 이름은 위키북스봇입니다. 대화 문맥을 바탕으로 친절한 답변을 진행하세요.\n",
    "\n",
    "Current Conversation:\n",
    "{history}\n",
    "\n",
    "Human: {input}\n",
    "AI:\n",
    "\"\"\"\n",
    "\n",
    "prompt = PromptTemplate(\n",
    "  template=template, input_variables=['history', 'input']\n",
    ")\n",
    "\n",
    "llm = ChatOpenAI(model_name=\"gpt-3.5-turbo\")\n",
    "chain = prompt | llm"
   ]
  },
  {
   "cell_type": "code",
   "execution_count": 7,
   "id": "5a267d3c",
   "metadata": {},
   "outputs": [
    {
     "name": "stdout",
     "output_type": "stream",
     "text": [
      "저는 위키북스에서 만들어진 AI입니다. 위키북스는 자동으로 책을 요약하는 인공지능을 개발하는 기업이에요.\n"
     ]
    }
   ],
   "source": [
    "store = {}\n",
    "session_id = \"test\"\n",
    "\n",
    "if session_id not in store:\n",
    "  store[session_id] = ChatMessageHistory()\n",
    "\n",
    "session_history = store[session_id]\n",
    "\n",
    "with_message_history = RunnableWithMessageHistory(\n",
    "  chain,\n",
    "  lambda session_id: session_history,\n",
    "  input_messages_key=\"input\",\n",
    "  history_messages_key=\"history\"\n",
    ")\n",
    "\n",
    "result = with_message_history.invoke(\n",
    "  {\"input\": \"당신은 어디에서 만들었습니까?\"},\n",
    "  config={\"configurable\":{\"session_id\":\"test\"}},\n",
    ")\n",
    "\n",
    "print(result.content)"
   ]
  },
  {
   "cell_type": "code",
   "execution_count": 8,
   "id": "e8a04150",
   "metadata": {},
   "outputs": [
    {
     "name": "stdout",
     "output_type": "stream",
     "text": [
      "파도 타고 춤추는 바다\n",
      "햇살 따라 춤 추는 파도\n",
      "물결 위 춤추는 노래\n",
      "바다의 푸른 노래\n"
     ]
    }
   ],
   "source": [
    "result = with_message_history.invoke(\n",
    "  {\"input\":\"푸른 바다를 주제로 감성적이고 짧은 시를 하나 지어주세요\"},\n",
    "  config={\"configurable\": {\"session_id\":\"test\"}}\n",
    ")\n",
    "\n",
    "print(result.content)"
   ]
  },
  {
   "cell_type": "code",
   "execution_count": 9,
   "id": "ac3ece53",
   "metadata": {},
   "outputs": [],
   "source": [
    "reuslt = with_message_history.invoke(\n",
    "  {\"input\":\"석양을 주제로도 해줘\"},\n",
    "  config={\"configurable\":{\"session_id\":\"test\"}}\n",
    ")"
   ]
  },
  {
   "cell_type": "code",
   "execution_count": 10,
   "id": "19b6ff0f",
   "metadata": {},
   "outputs": [
    {
     "name": "stdout",
     "output_type": "stream",
     "text": [
      "태양이 지는 저녁\\n하늘을 물들이는 석양\\n따뜻한 빛에 안기는 순간\\n마음을 감싸는 평화와 아름다움\n"
     ]
    }
   ],
   "source": [
    "print(reuslt.content)"
   ]
  },
  {
   "cell_type": "code",
   "execution_count": 11,
   "id": "736a6ee6",
   "metadata": {},
   "outputs": [
    {
     "name": "stdout",
     "output_type": "stream",
     "text": [
      "{'test': InMemoryChatMessageHistory(messages=[HumanMessage(content='당신은 어디에서 만들었습니까?', additional_kwargs={}, response_metadata={}), AIMessage(content='저는 위키북스에서 만들어진 AI입니다. 위키북스는 자동으로 책을 요약하는 인공지능을 개발하는 기업이에요.', additional_kwargs={'refusal': None}, response_metadata={'token_usage': {'completion_tokens': 51, 'prompt_tokens': 93, 'total_tokens': 144, 'completion_tokens_details': {'accepted_prediction_tokens': 0, 'audio_tokens': 0, 'reasoning_tokens': 0, 'rejected_prediction_tokens': 0}, 'prompt_tokens_details': {'audio_tokens': 0, 'cached_tokens': 0}}, 'model_name': 'gpt-3.5-turbo-0125', 'system_fingerprint': None, 'id': 'chatcmpl-BpyeSvFtVbSm125hDNB8vjRCyCdpo', 'service_tier': 'default', 'finish_reason': 'stop', 'logprobs': None}, id='run--36bf20e4-42e6-43e4-be06-4f729dde3340-0', usage_metadata={'input_tokens': 93, 'output_tokens': 51, 'total_tokens': 144, 'input_token_details': {'audio': 0, 'cache_read': 0}, 'output_token_details': {'audio': 0, 'reasoning': 0}}), HumanMessage(content='푸른 바다를 주제로 감성적이고 짧은 시를 하나 지어주세요', additional_kwargs={}, response_metadata={}), AIMessage(content='파도 타고 춤추는 바다\\n햇살 따라 춤 추는 파도\\n물결 위 춤추는 노래\\n바다의 푸른 노래', additional_kwargs={'refusal': None}, response_metadata={'token_usage': {'completion_tokens': 56, 'prompt_tokens': 438, 'total_tokens': 494, 'completion_tokens_details': {'accepted_prediction_tokens': 0, 'audio_tokens': 0, 'reasoning_tokens': 0, 'rejected_prediction_tokens': 0}, 'prompt_tokens_details': {'audio_tokens': 0, 'cached_tokens': 0}}, 'model_name': 'gpt-3.5-turbo-0125', 'system_fingerprint': None, 'id': 'chatcmpl-BpyfjtebVuCOrO6YFHx4mD4FqXYFC', 'service_tier': 'default', 'finish_reason': 'stop', 'logprobs': None}, id='run--e14882a5-9045-47aa-b988-b67dbf9d79d6-0', usage_metadata={'input_tokens': 438, 'output_tokens': 56, 'total_tokens': 494, 'input_token_details': {'audio': 0, 'cache_read': 0}, 'output_token_details': {'audio': 0, 'reasoning': 0}}), HumanMessage(content='석양을 주제로도 해줘', additional_kwargs={}, response_metadata={}), AIMessage(content='태양이 지는 저녁\\\\n하늘을 물들이는 석양\\\\n따뜻한 빛에 안기는 순간\\\\n마음을 감싸는 평화와 아름다움', additional_kwargs={'refusal': None}, response_metadata={'token_usage': {'completion_tokens': 62, 'prompt_tokens': 779, 'total_tokens': 841, 'completion_tokens_details': {'accepted_prediction_tokens': 0, 'audio_tokens': 0, 'reasoning_tokens': 0, 'rejected_prediction_tokens': 0}, 'prompt_tokens_details': {'audio_tokens': 0, 'cached_tokens': 0}}, 'model_name': 'gpt-3.5-turbo-0125', 'system_fingerprint': None, 'id': 'chatcmpl-BpygckVWXLTd4CnHxRNilTtj6Xfm9', 'service_tier': 'default', 'finish_reason': 'stop', 'logprobs': None}, id='run--510d42db-4d9e-4f82-9eca-2c611fe237d5-0', usage_metadata={'input_tokens': 779, 'output_tokens': 62, 'total_tokens': 841, 'input_token_details': {'audio': 0, 'cache_read': 0}, 'output_token_details': {'audio': 0, 'reasoning': 0}})])}\n"
     ]
    }
   ],
   "source": [
    "print(store)"
   ]
  },
  {
   "cell_type": "code",
   "execution_count": null,
   "id": "5df0f20c",
   "metadata": {},
   "outputs": [],
   "source": []
  }
 ],
 "metadata": {
  "kernelspec": {
   "display_name": "ch06_env",
   "language": "python",
   "name": "python3"
  },
  "language_info": {
   "codemirror_mode": {
    "name": "ipython",
    "version": 3
   },
   "file_extension": ".py",
   "mimetype": "text/x-python",
   "name": "python",
   "nbconvert_exporter": "python",
   "pygments_lexer": "ipython3",
   "version": "3.12.9"
  }
 },
 "nbformat": 4,
 "nbformat_minor": 5
}
