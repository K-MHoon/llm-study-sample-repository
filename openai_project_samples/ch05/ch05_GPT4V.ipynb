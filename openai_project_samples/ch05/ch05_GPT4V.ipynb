{
 "cells": [
  {
   "cell_type": "code",
   "execution_count": null,
   "id": "a2b0f22e",
   "metadata": {},
   "outputs": [],
   "source": [
    "from openai import OpenAI\n",
    "\n",
    "\n",
    "client = OpenAI(\n",
    "    api_key = 'yourServiceKey'\n",
    ")\n"
   ]
  },
  {
   "cell_type": "code",
   "execution_count": 2,
   "id": "8ef0bcc8",
   "metadata": {},
   "outputs": [
    {
     "name": "stdout",
     "output_type": "stream",
     "text": [
      "Choice(finish_reason='stop', index=0, logprobs=None, message=ChatCompletionMessage(content='이 사진은 잘 관리된 자연 보호구역 또는 공원의 모습을 보여줍니다. 목재 보도길이 푸르고 무성한 잔디밭을 관통하고 있어, 방문객들이 습지나 부드러운 지형을 통과하면서 자연을 가까이에서 체험할 수 있도록 설계되었습니다. 보도길은 안전하고 접근성이 좋아 보이며, 주변 자연과 조화롭게 잘 어우러져 있습니다. 하늘은 맑고, 구름이 조금 떠 있어 화창한 날씨를 나타냅니다. 이러한 환경은 산책, 생태 관찰, 휴식 등 다양한 야외 활동에 적합한 장소입니다.', refusal=None, role='assistant', annotations=[], audio=None, function_call=None, tool_calls=None))\n"
     ]
    }
   ],
   "source": [
    "response = client.chat.completions.create(\n",
    "  model=\"gpt-4-turbo\",\n",
    "  messages=[\n",
    "    {\n",
    "      \"role\": \"user\",\n",
    "      \"content\": [\n",
    "        {\"type\": \"text\", \"text\": \"이 이미지에 대해서 알려줘\"},\n",
    "        {\n",
    "          \"type\": \"image_url\",\n",
    "          \"image_url\": {\n",
    "            \"url\": \"https://upload.wikimedia.org/wikipedia/commons/thumb/d/dd/Gfp-wisconsin-madison-the-nature-boardwalk.jpg/2560px-Gfp-wisconsin-madison-the-nature-boardwalk.jpg\",\n",
    "          },\n",
    "        },\n",
    "      ],\n",
    "    }\n",
    "  ],\n",
    "  max_tokens=300,\n",
    ")\n",
    "\n",
    "print(response.choices[0])"
   ]
  },
  {
   "cell_type": "code",
   "execution_count": 3,
   "id": "6cf04656",
   "metadata": {},
   "outputs": [
    {
     "name": "stdout",
     "output_type": "stream",
     "text": [
      "ChatCompletion(id='chatcmpl-BnjPyCT4BKHPq3gwoShx94Z2VMj4n', choices=[Choice(finish_reason='stop', index=0, logprobs=None, message=ChatCompletionMessage(content='이 사진은 잘 관리된 자연 보호구역 또는 공원의 모습을 보여줍니다. 목재 보도길이 푸르고 무성한 잔디밭을 관통하고 있어, 방문객들이 습지나 부드러운 지형을 통과하면서 자연을 가까이에서 체험할 수 있도록 설계되었습니다. 보도길은 안전하고 접근성이 좋아 보이며, 주변 자연과 조화롭게 잘 어우러져 있습니다. 하늘은 맑고, 구름이 조금 떠 있어 화창한 날씨를 나타냅니다. 이러한 환경은 산책, 생태 관찰, 휴식 등 다양한 야외 활동에 적합한 장소입니다.', refusal=None, role='assistant', annotations=[], audio=None, function_call=None, tool_calls=None))], created=1751192358, model='gpt-4-turbo-2024-04-09', object='chat.completion', service_tier='default', system_fingerprint='fp_de235176ee', usage=CompletionUsage(completion_tokens=246, prompt_tokens=1124, total_tokens=1370, completion_tokens_details=CompletionTokensDetails(accepted_prediction_tokens=0, audio_tokens=0, reasoning_tokens=0, rejected_prediction_tokens=0), prompt_tokens_details=PromptTokensDetails(audio_tokens=0, cached_tokens=0)))\n"
     ]
    }
   ],
   "source": [
    "print(response)"
   ]
  }
 ],
 "metadata": {
  "kernelspec": {
   "display_name": "ch05_env",
   "language": "python",
   "name": "python3"
  },
  "language_info": {
   "codemirror_mode": {
    "name": "ipython",
    "version": 3
   },
   "file_extension": ".py",
   "mimetype": "text/x-python",
   "name": "python",
   "nbconvert_exporter": "python",
   "pygments_lexer": "ipython3",
   "version": "3.12.9"
  }
 },
 "nbformat": 4,
 "nbformat_minor": 5
}
